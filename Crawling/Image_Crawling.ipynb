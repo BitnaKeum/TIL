{
  "nbformat": 4,
  "nbformat_minor": 0,
  "metadata": {
    "colab": {
      "name": "Image Crawling.ipynb",
      "provenance": [],
      "collapsed_sections": [],
      "mount_file_id": "1hG-4x7DPDSQaX1jRFr2IpAfX730fhNbm",
      "authorship_tag": "ABX9TyMNNBZswNXSuxJZpLtOMf1n"
    },
    "kernelspec": {
      "name": "python3",
      "display_name": "Python 3"
    }
  },
  "cells": [
    {
      "cell_type": "code",
      "metadata": {
        "id": "dL7QFsm_qHbY"
      },
      "source": [
        "# https://beausty23.tistory.com/115"
      ],
      "execution_count": null,
      "outputs": []
    },
    {
      "cell_type": "code",
      "metadata": {
        "id": "OCA_t1AI12vK",
        "colab": {
          "base_uri": "https://localhost:8080/"
        },
        "outputId": "b936b97f-65fc-426a-c5fa-6e5dcbbd6aa8"
      },
      "source": [
        "from google.colab import drive\n",
        "drive.mount('/content/drive')"
      ],
      "execution_count": null,
      "outputs": [
        {
          "output_type": "stream",
          "text": [
            "Drive already mounted at /content/drive; to attempt to forcibly remount, call drive.mount(\"/content/drive\", force_remount=True).\n"
          ],
          "name": "stdout"
        }
      ]
    },
    {
      "cell_type": "code",
      "metadata": {
        "id": "JZ1Fh_yF3y9O",
        "colab": {
          "base_uri": "https://localhost:8080/"
        },
        "outputId": "0954f211-9d44-4dd6-b728-b118adbbcf6f"
      },
      "source": [
        "cd /content/drive/MyDrive"
      ],
      "execution_count": null,
      "outputs": [
        {
          "output_type": "stream",
          "text": [
            "/content/drive/MyDrive\n"
          ],
          "name": "stdout"
        }
      ]
    },
    {
      "cell_type": "code",
      "metadata": {
        "id": "FXpiiSBf2EKB",
        "colab": {
          "base_uri": "https://localhost:8080/"
        },
        "outputId": "19270a17-3ec1-492a-e82d-16c69b6577a7"
      },
      "source": [
        "!pip install icrawler"
      ],
      "execution_count": null,
      "outputs": [
        {
          "output_type": "stream",
          "text": [
            "Requirement already satisfied: icrawler in /usr/local/lib/python3.7/dist-packages (0.6.2)\n",
            "Requirement already satisfied: lxml in /usr/local/lib/python3.7/dist-packages (from icrawler) (4.2.6)\n",
            "Requirement already satisfied: six>=1.10.0 in /usr/local/lib/python3.7/dist-packages (from icrawler) (1.15.0)\n",
            "Requirement already satisfied: Pillow in /usr/local/lib/python3.7/dist-packages (from icrawler) (7.1.2)\n",
            "Requirement already satisfied: requests>=2.9.1 in /usr/local/lib/python3.7/dist-packages (from icrawler) (2.23.0)\n",
            "Requirement already satisfied: beautifulsoup4>=4.4.1 in /usr/local/lib/python3.7/dist-packages (from icrawler) (4.6.3)\n",
            "Requirement already satisfied: certifi>=2017.4.17 in /usr/local/lib/python3.7/dist-packages (from requests>=2.9.1->icrawler) (2020.12.5)\n",
            "Requirement already satisfied: chardet<4,>=3.0.2 in /usr/local/lib/python3.7/dist-packages (from requests>=2.9.1->icrawler) (3.0.4)\n",
            "Requirement already satisfied: urllib3!=1.25.0,!=1.25.1,<1.26,>=1.21.1 in /usr/local/lib/python3.7/dist-packages (from requests>=2.9.1->icrawler) (1.24.3)\n",
            "Requirement already satisfied: idna<3,>=2.5 in /usr/local/lib/python3.7/dist-packages (from requests>=2.9.1->icrawler) (2.10)\n"
          ],
          "name": "stdout"
        }
      ]
    },
    {
      "cell_type": "code",
      "metadata": {
        "id": "iOR1jFQC4Ppf"
      },
      "source": [
        "from icrawler.builtin import BaiduImageCrawler, BingImageCrawler, GoogleImageCrawler\n",
        "\n",
        "# Google 크롤링 (막힘)\n",
        "# google_crawler = GoogleImageCrawler(\n",
        "#     feeder_threads=1,\n",
        "#     parser_threads=1,\n",
        "#     downloader_threads=4,\n",
        "#     storage={'root_dir': '/content/drive/MyDrive/Crawling/dress'})\n",
        "# google_crawler.session.verify = False\n",
        "# # filters = dict(\n",
        "# #     size='large',\n",
        "# #     color='orange',\n",
        "# #     license='commercial,modify',\n",
        "# #     date=((2017, 1, 1), (2021, 1, 30)))\n",
        "# google_crawler.crawl(keyword='dress', offset=0, max_num=1000,\n",
        "#                      min_size=(256,256), max_size=None, file_idx_offset=0)\n",
        "\n",
        "# bing 크롤링\n",
        "bing_crawler = BingImageCrawler(downloader_threads=4,\n",
        "                                storage={'root_dir': '/content/drive/MyDrive/Crawling/dress'})\n",
        "bing_crawler.crawl(keyword='dress', filters=None, offset=0, max_num=1000)\n",
        "\n",
        "# baidu 크롤링 (막힘)\n",
        "# baidu_crawler = BaiduImageCrawler(storage={'root_dir': '/content/drive/MyDrive/Crawling/dress'})\n",
        "# baidu_crawler.crawl(keyword='dress', offset=0, max_num=1000,\n",
        "#                     min_size=(256,256), max_size=None)"
      ],
      "execution_count": null,
      "outputs": []
    },
    {
      "cell_type": "code",
      "metadata": {
        "id": "fwa7tZ3FKYke"
      },
      "source": [
        ""
      ],
      "execution_count": null,
      "outputs": []
    },
    {
      "cell_type": "code",
      "metadata": {
        "colab": {
          "base_uri": "https://localhost:8080/"
        },
        "id": "ZT6amyPOKYo2",
        "outputId": "d4546151-6cda-4151-aeaa-dc11532b3e6a"
      },
      "source": [
        "!pip install google_images_download"
      ],
      "execution_count": null,
      "outputs": [
        {
          "output_type": "stream",
          "text": [
            "Requirement already satisfied: google_images_download in /usr/local/lib/python3.7/dist-packages (2.8.0)\n",
            "Requirement already satisfied: selenium in /usr/local/lib/python3.7/dist-packages (from google_images_download) (3.141.0)\n",
            "Requirement already satisfied: urllib3 in /usr/local/lib/python3.7/dist-packages (from selenium->google_images_download) (1.24.3)\n"
          ],
          "name": "stdout"
        }
      ]
    },
    {
      "cell_type": "code",
      "metadata": {
        "id": "ZeeYemFCMbYU"
      },
      "source": [
        "# !pip uninstall google_images_download"
      ],
      "execution_count": null,
      "outputs": []
    },
    {
      "cell_type": "code",
      "metadata": {
        "id": "Lcg3bYB3MexR"
      },
      "source": [
        "# !pip install git+https://github.com/Joeclinton1/google-images-download.git"
      ],
      "execution_count": null,
      "outputs": []
    },
    {
      "cell_type": "code",
      "metadata": {
        "id": "_itsSyVGKZmb"
      },
      "source": [
        "from google_images_download import google_images_download\n",
        "\n",
        "def imageCrawling(keyword, directory):\n",
        "    response = google_images_download.googleimagesdownload()\n",
        "    arguments = {\n",
        "        \"keywords\" : keyword,\n",
        "        \"limit\" : 100,\n",
        "        \"print_urls\" : True,\n",
        "        \"no_directory\": True,\n",
        "        \"output_directory\": directory\n",
        "        }\n",
        "    paths = response.download(arguments)\n"
      ],
      "execution_count": null,
      "outputs": []
    },
    {
      "cell_type": "code",
      "metadata": {
        "id": "0GvzH1LSLofw"
      },
      "source": [
        "imageCrawling(\"dress\", \"/content/drive/MyDrive/Crawling/dress\")"
      ],
      "execution_count": null,
      "outputs": []
    },
    {
      "cell_type": "code",
      "metadata": {
        "id": "N2YdovytLtDf"
      },
      "source": [
        ""
      ],
      "execution_count": null,
      "outputs": []
    }
  ]
}