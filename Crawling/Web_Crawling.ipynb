{
  "nbformat": 4,
  "nbformat_minor": 0,
  "metadata": {
    "colab": {
      "name": "Web Crawling.ipynb",
      "provenance": [],
      "collapsed_sections": [],
      "authorship_tag": "ABX9TyNLit2weLPfwHI4unBTB/gj"
    },
    "kernelspec": {
      "name": "python3",
      "display_name": "Python 3"
    }
  },
  "cells": [
    {
      "cell_type": "code",
      "metadata": {
        "id": "dL7QFsm_qHbY"
      },
      "source": [
        "# https://beausty23.tistory.com/115"
      ],
      "execution_count": null,
      "outputs": []
    },
    {
      "cell_type": "code",
      "metadata": {
        "id": "OCA_t1AI12vK"
      },
      "source": [
        "from google.colab import drive\n",
        "drive.mount('/content/drive')"
      ],
      "execution_count": null,
      "outputs": []
    },
    {
      "cell_type": "code",
      "metadata": {
        "id": "JZ1Fh_yF3y9O"
      },
      "source": [
        "cd /content/drive/MyDrive"
      ],
      "execution_count": null,
      "outputs": []
    },
    {
      "cell_type": "code",
      "metadata": {
        "id": "FXpiiSBf2EKB"
      },
      "source": [
        "!pip install icrawler"
      ],
      "execution_count": null,
      "outputs": []
    },
    {
      "cell_type": "code",
      "metadata": {
        "id": "iOR1jFQC4Ppf"
      },
      "source": [
        "from icrawler.builtin import BaiduImageCrawler, BingImageCrawler, GoogleImageCrawler\r\n",
        "\r\n",
        "# Google 크롤링\r\n",
        "google_crawler = GoogleImageCrawler(\r\n",
        "    feeder_threads=1,\r\n",
        "    parser_threads=1,\r\n",
        "    downloader_threads=4,\r\n",
        "    storage={'root_dir': '/content/drive/MyDrive/Crawling/blue_skirt'})\r\n",
        "filters = dict(\r\n",
        "    size='large',\r\n",
        "    color='orange',\r\n",
        "    license='commercial,modify',\r\n",
        "    date=((2017, 1, 1), (2017, 11, 30)))\r\n",
        "google_crawler.crawl(keyword='cobalt blue skirt', filters=filters, offset=0, max_num=1000,\r\n",
        "                     min_size=(200,200), max_size=None, file_idx_offset=0)\r\n",
        "\r\n",
        "# bing 크롤링\r\n",
        "bing_crawler = BingImageCrawler(downloader_threads=4,\r\n",
        "                                storage={'root_dir': '/content/drive/MyDrive/Crawling/blue_skirt'})\r\n",
        "bing_crawler.crawl(keyword='cobalt blue skirt', filters=None, offset=0, max_num=1000)\r\n",
        "\r\n",
        "# baidu 크롤링\r\n",
        "baidu_crawler = BaiduImageCrawler(storage={'root_dir': '/content/drive/MyDrive/Crawling/blue_skirt'})\r\n",
        "baidu_crawler.crawl(keyword='cobalt blue skirt', offset=0, max_num=1000,\r\n",
        "                    min_size=(200,200), max_size=None)"
      ],
      "execution_count": null,
      "outputs": []
    },
    {
      "cell_type": "code",
      "metadata": {
        "id": "2BVRoKUE2epM"
      },
      "source": [
        ""
      ],
      "execution_count": 29,
      "outputs": []
    }
  ]
}