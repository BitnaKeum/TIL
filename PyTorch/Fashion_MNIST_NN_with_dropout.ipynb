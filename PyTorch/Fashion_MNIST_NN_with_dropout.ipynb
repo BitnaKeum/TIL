{
 "cells": [
  {
   "cell_type": "code",
   "execution_count": 26,
   "metadata": {},
   "outputs": [],
   "source": [
    "import torch\n",
    "import torch.nn as nn\n",
    "import torch.optim as optim\n",
    "import torch.nn.functional as F\n",
    "from torchvision import transforms, datasets"
   ]
  },
  {
   "cell_type": "code",
   "execution_count": 27,
   "metadata": {},
   "outputs": [],
   "source": [
    "USE_CUDA = torch.cuda.is_available()\n",
    "DEVICE = torch.device(\"cuda\" if USE_CUDA else \"cpu\")"
   ]
  },
  {
   "cell_type": "code",
   "execution_count": 28,
   "metadata": {},
   "outputs": [],
   "source": [
    "EPOCHS = 50\n",
    "BATCH_SIZE = 64"
   ]
  },
  {
   "cell_type": "code",
   "execution_count": 29,
   "metadata": {},
   "outputs": [],
   "source": [
    "train_loader = torch.utils.data.DataLoader(\n",
    "    datasets.FashionMNIST('./.data',\n",
    "                  train=True,\n",
    "                  download=True,\n",
    "                  transform=transforms.Compose([\n",
    "                      transforms.RandomHorizontalFlip(),   # 랜덤 반전으로 데이터 늘리기 => overfitting 줄임\n",
    "                      transforms.ToTensor(),\n",
    "                      transforms.Normalize((0.1307,),(0.3081,))\n",
    "                  ])),\n",
    "    batch_size = BATCH_SIZE,\n",
    "    shuffle = True\n",
    ")\n",
    "test_loader = torch.utils.data.DataLoader(\n",
    "    datasets.FashionMNIST('./.data',\n",
    "                  train=False,\n",
    "                  download=True,\n",
    "                  transform=transforms.Compose([\n",
    "                      transforms.ToTensor(),\n",
    "                      transforms.Normalize((0.1307,),(0.3081,))\n",
    "                  ])),\n",
    "    batch_size = BATCH_SIZE,\n",
    "    shuffle = True\n",
    ")"
   ]
  },
  {
   "cell_type": "code",
   "execution_count": 30,
   "metadata": {},
   "outputs": [],
   "source": [
    "class Net(nn.Module):\n",
    "    def __init__(self, dropout_p=0.2):\n",
    "        super(Net, self).__init__()\n",
    "        self.fc1 = nn.Linear(784,256)\n",
    "        self.fc2 = nn.Linear(256,128)\n",
    "        self.fc3 = nn.Linear(128,10)\n",
    "        self.dropout_p = dropout_p\n",
    "        \n",
    "    def forward(self, x):\n",
    "        x = x.view(-1, 784)\n",
    "        x = F.relu(self.fc1(x))\n",
    "        \n",
    "        # dropout => overfitting 줄임\n",
    "        x = F.dropout(x, training=self.training, p=self.dropout_p) \n",
    "        x = F.relu(self.fc2(x))\n",
    "        x = F.dropout(x, training=self.training, p=self.dropout_p)\n",
    "        x = self.fc3(x)\n",
    "        \n",
    "        return x"
   ]
  },
  {
   "cell_type": "code",
   "execution_count": 31,
   "metadata": {},
   "outputs": [],
   "source": [
    "model = Net(dropout_p=0.2).to(DEVICE)"
   ]
  },
  {
   "cell_type": "code",
   "execution_count": 32,
   "metadata": {},
   "outputs": [],
   "source": [
    "optimizer = optim.SGD(model.parameters(), lr=0.01)"
   ]
  },
  {
   "cell_type": "code",
   "execution_count": 33,
   "metadata": {},
   "outputs": [],
   "source": [
    "def train(model, train_loader, optimizer):\n",
    "    model.train()\n",
    "    \n",
    "    for batch_idx, (data, target) in enumerate(train_loader):\n",
    "        data, target = data.to(DEVICE), target.to(DEVICE)\n",
    "        \n",
    "        optimizer.zero_grad()\n",
    "        output = model(data)\n",
    "        loss = F.cross_entropy(output, target)\n",
    "        loss.backward()\n",
    "        optimizer.step()"
   ]
  },
  {
   "cell_type": "code",
   "execution_count": 34,
   "metadata": {},
   "outputs": [],
   "source": [
    "def evaluate(model, test_loader):\n",
    "    model.eval()\n",
    "    test_loss = 0\n",
    "    correct = 0\n",
    "    \n",
    "    with torch.no_grad():\n",
    "        for data, target in test_loader:\n",
    "            data, target = data.to(DEVICE), target.to(DEVICE)\n",
    "            output = model(data)\n",
    "            \n",
    "            test_loss += F.cross_entropy(output, target, reduction='sum').item()\n",
    "            \n",
    "            pred = output.max(1, keepdim=True)[1]\n",
    "            correct += pred.eq(target.view_as(pred)).sum().item()\n",
    "            \n",
    "    test_loss /= len(test_loader.dataset)\n",
    "    test_accuracy = 100. * correct / len(test_loader.dataset)\n",
    "    \n",
    "    return test_loss, test_accuracy"
   ]
  },
  {
   "cell_type": "code",
   "execution_count": 35,
   "metadata": {},
   "outputs": [
    {
     "name": "stdout",
     "output_type": "stream",
     "text": [
      "[1] Test Loss: 0.6433, Accuracy: 77.08%\n",
      "[2] Test Loss: 0.5450, Accuracy: 80.20%\n",
      "[3] Test Loss: 0.4873, Accuracy: 82.19%\n",
      "[4] Test Loss: 0.4581, Accuracy: 83.58%\n",
      "[5] Test Loss: 0.4406, Accuracy: 83.98%\n",
      "[6] Test Loss: 0.4318, Accuracy: 84.32%\n",
      "[7] Test Loss: 0.4114, Accuracy: 85.14%\n",
      "[8] Test Loss: 0.4049, Accuracy: 85.29%\n",
      "[9] Test Loss: 0.3988, Accuracy: 85.44%\n",
      "[10] Test Loss: 0.3867, Accuracy: 85.92%\n",
      "[11] Test Loss: 0.3903, Accuracy: 85.66%\n",
      "[12] Test Loss: 0.3765, Accuracy: 86.44%\n",
      "[13] Test Loss: 0.3791, Accuracy: 86.16%\n",
      "[14] Test Loss: 0.3701, Accuracy: 86.48%\n",
      "[15] Test Loss: 0.3576, Accuracy: 87.12%\n",
      "[16] Test Loss: 0.3616, Accuracy: 86.81%\n",
      "[17] Test Loss: 0.3537, Accuracy: 87.17%\n",
      "[18] Test Loss: 0.3639, Accuracy: 86.72%\n",
      "[19] Test Loss: 0.3485, Accuracy: 87.34%\n",
      "[20] Test Loss: 0.3424, Accuracy: 87.61%\n",
      "[21] Test Loss: 0.3643, Accuracy: 86.68%\n",
      "[22] Test Loss: 0.3439, Accuracy: 87.43%\n",
      "[23] Test Loss: 0.3389, Accuracy: 87.64%\n",
      "[24] Test Loss: 0.3415, Accuracy: 87.68%\n",
      "[25] Test Loss: 0.3337, Accuracy: 87.90%\n",
      "[26] Test Loss: 0.3332, Accuracy: 87.99%\n",
      "[27] Test Loss: 0.3312, Accuracy: 87.97%\n",
      "[28] Test Loss: 0.3415, Accuracy: 87.31%\n",
      "[29] Test Loss: 0.3298, Accuracy: 87.99%\n",
      "[30] Test Loss: 0.3241, Accuracy: 88.17%\n",
      "[31] Test Loss: 0.3353, Accuracy: 87.91%\n",
      "[32] Test Loss: 0.3289, Accuracy: 88.25%\n",
      "[33] Test Loss: 0.3209, Accuracy: 88.64%\n",
      "[34] Test Loss: 0.3205, Accuracy: 88.18%\n",
      "[35] Test Loss: 0.3187, Accuracy: 88.57%\n",
      "[36] Test Loss: 0.3180, Accuracy: 88.52%\n",
      "[37] Test Loss: 0.3229, Accuracy: 88.24%\n",
      "[38] Test Loss: 0.3225, Accuracy: 88.29%\n",
      "[39] Test Loss: 0.3134, Accuracy: 88.90%\n",
      "[40] Test Loss: 0.3119, Accuracy: 89.02%\n",
      "[41] Test Loss: 0.3140, Accuracy: 88.48%\n",
      "[42] Test Loss: 0.3097, Accuracy: 88.78%\n",
      "[43] Test Loss: 0.3141, Accuracy: 88.63%\n",
      "[44] Test Loss: 0.3100, Accuracy: 88.98%\n",
      "[45] Test Loss: 0.3141, Accuracy: 88.84%\n",
      "[46] Test Loss: 0.3189, Accuracy: 88.60%\n",
      "[47] Test Loss: 0.3145, Accuracy: 88.72%\n",
      "[48] Test Loss: 0.3119, Accuracy: 88.84%\n",
      "[49] Test Loss: 0.3097, Accuracy: 88.88%\n",
      "[50] Test Loss: 0.3145, Accuracy: 88.77%\n"
     ]
    }
   ],
   "source": [
    "for epoch in range(1, EPOCHS+1):\n",
    "    train(model, train_loader, optimizer)\n",
    "    test_loss, test_accuracy = evaluate(model, test_loader)\n",
    "    \n",
    "    print('[{}] Test Loss: {:.4f}, Accuracy: {:.2f}%'.format(epoch, test_loss, test_accuracy))"
   ]
  },
  {
   "cell_type": "code",
   "execution_count": null,
   "metadata": {},
   "outputs": [],
   "source": []
  }
 ],
 "metadata": {
  "kernelspec": {
   "display_name": "Python 3",
   "language": "python",
   "name": "python3"
  },
  "language_info": {
   "codemirror_mode": {
    "name": "ipython",
    "version": 3
   },
   "file_extension": ".py",
   "mimetype": "text/x-python",
   "name": "python",
   "nbconvert_exporter": "python",
   "pygments_lexer": "ipython3",
   "version": "3.7.4"
  }
 },
 "nbformat": 4,
 "nbformat_minor": 2
}
