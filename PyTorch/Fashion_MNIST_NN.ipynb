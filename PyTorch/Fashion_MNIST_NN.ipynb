{
 "cells": [
  {
   "cell_type": "code",
   "execution_count": 20,
   "metadata": {},
   "outputs": [],
   "source": [
    "import torch\n",
    "import torch.nn as nn\n",
    "import torch.optim as optim\n",
    "import torch.nn.functional as F\n",
    "from torchvision import transforms, datasets"
   ]
  },
  {
   "cell_type": "code",
   "execution_count": 21,
   "metadata": {},
   "outputs": [],
   "source": [
    "# CPU / GPU 확인\n",
    "USE_CUDA = torch.cuda.is_available()\n",
    "DEVICE = torch.device(\"cuda\" if USE_CUDA else \"cpu\")"
   ]
  },
  {
   "cell_type": "code",
   "execution_count": 22,
   "metadata": {},
   "outputs": [],
   "source": [
    "EPOCHS = 30\n",
    "BATCH_SIZE = 64"
   ]
  },
  {
   "cell_type": "code",
   "execution_count": 23,
   "metadata": {},
   "outputs": [],
   "source": [
    "transform = transforms.Compose([\n",
    "    transforms.ToTensor()\n",
    "])"
   ]
  },
  {
   "cell_type": "code",
   "execution_count": null,
   "metadata": {},
   "outputs": [],
   "source": [
    "trainset = datasets.FashionMNIST(\n",
    "    root = './.data/',\n",
    "    train = True,\n",
    "    download = True,\n",
    "    transform = transform\n",
    ")\n",
    "testset = datasets.FashionMNIST(\n",
    "    root = './.data/',\n",
    "    train = False,\n",
    "    download = True,\n",
    "    transform = transform\n",
    ")"
   ]
  },
  {
   "cell_type": "code",
   "execution_count": null,
   "metadata": {},
   "outputs": [],
   "source": [
    "train_loader = torch.utils.data.DataLoader(\n",
    "    dataset = trainset,\n",
    "    batch_size = BATCH_SIZE,\n",
    "    shuffle = True\n",
    ")\n",
    "test_loader = torch.utils.data.DataLoader(\n",
    "    dataset = testset,\n",
    "    batch_size = BATCH_SIZE,\n",
    "    shuffle = True\n",
    ")"
   ]
  },
  {
   "cell_type": "code",
   "execution_count": 14,
   "metadata": {},
   "outputs": [],
   "source": [
    "class Net(nn.Module):\n",
    "    def __init__(self):\n",
    "        super(Net, self).__init__()\n",
    "        self.fc1 = nn.Linear(784,256)\n",
    "        self.fc2 = nn.Linear(256,128)\n",
    "        self.fc3 = nn.Linear(128,10)\n",
    "        \n",
    "    def forward(self, x):\n",
    "        x = x.view(-1, 784) # 1차원 행렬로 변환\n",
    "        x = F.relu(self.fc1(x))\n",
    "        x = F.relu(self.fc2(x))\n",
    "        x = self.fc3(x)\n",
    "        return x"
   ]
  },
  {
   "cell_type": "code",
   "execution_count": 15,
   "metadata": {},
   "outputs": [],
   "source": [
    "model = Net().to(DEVICE)"
   ]
  },
  {
   "cell_type": "code",
   "execution_count": 16,
   "metadata": {},
   "outputs": [],
   "source": [
    "optimizer = optim.SGD(model.parameters(), lr=0.01)"
   ]
  },
  {
   "cell_type": "code",
   "execution_count": 26,
   "metadata": {},
   "outputs": [],
   "source": [
    "def train(model, train_loader, optimizer):\n",
    "    model.train()\n",
    "    \n",
    "    for batch_idx, (data, target) in enumerate(train_loader):\n",
    "        data, target = data.to(DEVICE), target.to(DEVICE) # 학습 데이터를 DEVICE의 메모리로 보냄\n",
    "        \n",
    "        optimizer.zero_grad()\n",
    "        output = model(data)\n",
    "        loss = F.cross_entropy(output, target) # 오차함수 : 클래스가 여러 개이므로 교차 엔트로피를 사용\n",
    "        loss.backward()\n",
    "        optimizer.step()"
   ]
  },
  {
   "cell_type": "code",
   "execution_count": 27,
   "metadata": {},
   "outputs": [],
   "source": [
    "def evaluate(model, test_loader):\n",
    "    model.eval()\n",
    "    test_loss = 0\n",
    "    correct = 0\n",
    "    \n",
    "    with torch.no_grad(): # 평가 단계에서는 기울기를 계산할 필요가 없으므로 no_grad()\n",
    "        for data, target in test_loader:\n",
    "            data, target = data.to(DEVICE), target.to(DEVICE)\n",
    "            output = model(data)\n",
    "            \n",
    "            test_loss += F.cross_entropy(output, target, reduction='sum').item()\n",
    "            \n",
    "            pred = output.max(1, keepdim=True)[1] # 가장 큰 값 => prediction\n",
    "            correct += pred.eq(target.view_as(pred)).sum().item() # 맞은 개수를 모두 합함\n",
    "            \n",
    "    test_loss /= len(test_loader.dataset)\n",
    "    test_accuracy = 100. * correct / len(test_loader.dataset)\n",
    "    \n",
    "    return test_loss, test_accuracy"
   ]
  },
  {
   "cell_type": "code",
   "execution_count": 28,
   "metadata": {},
   "outputs": [
    {
     "name": "stdout",
     "output_type": "stream",
     "text": [
      "[1] Test Loss: 0.8286, Accuracy: 68.65%\n",
      "[2] Test Loss: 0.6660, Accuracy: 75.35%\n",
      "[3] Test Loss: 0.5697, Accuracy: 80.06%\n",
      "[4] Test Loss: 0.5307, Accuracy: 81.43%\n",
      "[5] Test Loss: 0.5099, Accuracy: 82.13%\n",
      "[6] Test Loss: 0.4915, Accuracy: 82.59%\n",
      "[7] Test Loss: 0.4918, Accuracy: 82.30%\n",
      "[8] Test Loss: 0.4756, Accuracy: 83.22%\n",
      "[9] Test Loss: 0.4705, Accuracy: 83.46%\n",
      "[10] Test Loss: 0.4558, Accuracy: 83.64%\n",
      "[11] Test Loss: 0.4432, Accuracy: 84.24%\n",
      "[12] Test Loss: 0.4376, Accuracy: 84.43%\n",
      "[13] Test Loss: 0.4438, Accuracy: 84.28%\n",
      "[14] Test Loss: 0.4277, Accuracy: 84.82%\n",
      "[15] Test Loss: 0.4252, Accuracy: 84.98%\n",
      "[16] Test Loss: 0.4175, Accuracy: 85.26%\n",
      "[17] Test Loss: 0.4147, Accuracy: 85.18%\n",
      "[18] Test Loss: 0.4237, Accuracy: 84.90%\n",
      "[19] Test Loss: 0.4053, Accuracy: 85.72%\n",
      "[20] Test Loss: 0.3997, Accuracy: 85.87%\n",
      "[21] Test Loss: 0.4017, Accuracy: 85.94%\n",
      "[22] Test Loss: 0.3985, Accuracy: 85.60%\n",
      "[23] Test Loss: 0.3838, Accuracy: 86.44%\n",
      "[24] Test Loss: 0.3849, Accuracy: 86.29%\n",
      "[25] Test Loss: 0.3837, Accuracy: 86.38%\n",
      "[26] Test Loss: 0.3761, Accuracy: 86.63%\n",
      "[27] Test Loss: 0.3709, Accuracy: 86.94%\n",
      "[28] Test Loss: 0.3731, Accuracy: 86.60%\n",
      "[29] Test Loss: 0.3850, Accuracy: 86.05%\n",
      "[30] Test Loss: 0.3942, Accuracy: 86.18%\n"
     ]
    }
   ],
   "source": [
    "for epoch in range(1, EPOCHS+1):\n",
    "    train(model, train_loader, optimizer)\n",
    "    test_loss, test_accuracy = evaluate(model, test_loader)\n",
    "    \n",
    "    print('[{}] Test Loss: {:.4f}, Accuracy: {:.2f}%'.format(epoch, test_loss, test_accuracy))"
   ]
  },
  {
   "cell_type": "code",
   "execution_count": null,
   "metadata": {},
   "outputs": [],
   "source": []
  }
 ],
 "metadata": {
  "kernelspec": {
   "display_name": "Python 3",
   "language": "python",
   "name": "python3"
  },
  "language_info": {
   "codemirror_mode": {
    "name": "ipython",
    "version": 3
   },
   "file_extension": ".py",
   "mimetype": "text/x-python",
   "name": "python",
   "nbconvert_exporter": "python",
   "pygments_lexer": "ipython3",
   "version": "3.7.4"
  }
 },
 "nbformat": 4,
 "nbformat_minor": 2
}
