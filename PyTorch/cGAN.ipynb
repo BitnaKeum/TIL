{
 "cells": [
  {
   "cell_type": "code",
   "execution_count": 1,
   "metadata": {},
   "outputs": [],
   "source": [
    "import os\n",
    "import torch\n",
    "import torchvision\n",
    "import torch.nn as nn\n",
    "import torch.optim as optim\n",
    "from torchvision import transforms, datasets\n",
    "from torchvision.utils import save_image\n",
    "import matplotlib.pyplot as plt"
   ]
  },
  {
   "cell_type": "code",
   "execution_count": 2,
   "metadata": {},
   "outputs": [
    {
     "name": "stdout",
     "output_type": "stream",
     "text": [
      "다음 장치를 사용합니다: cpu\n"
     ]
    }
   ],
   "source": [
    "EPOCHS = 500\n",
    "BATCH_SIZE=100\n",
    "USE_CUDA = torch.cuda.is_available()\n",
    "DEVICE = torch.device(\"cuda\" if USE_CUDA else \"cpu\")\n",
    "print('다음 장치를 사용합니다:', DEVICE)"
   ]
  },
  {
   "cell_type": "code",
   "execution_count": 3,
   "metadata": {},
   "outputs": [],
   "source": [
    "trainset = datasets.FashionMNIST('./.data',\n",
    "                                train=True,\n",
    "                                download=True,\n",
    "                                transform=transforms.Compose([\n",
    "                                    transforms.ToTensor(),\n",
    "                                    transforms.Normalize((0.5,),(0.5,))\n",
    "                                ]))\n",
    "train_loader = torch.utils.data.DataLoader(\n",
    "    dataset = trainset,\n",
    "    batch_size = BATCH_SIZE,\n",
    "    shuffle = True\n",
    ")"
   ]
  },
  {
   "cell_type": "code",
   "execution_count": 4,
   "metadata": {},
   "outputs": [],
   "source": [
    "# Generator\n",
    "class Generator(nn.Module):\n",
    "    def __init__(self):\n",
    "        super().__init__()\n",
    "        \n",
    "        self.embed = nn.Embedding(10, 10)\n",
    "        \n",
    "        self.model = nn.Sequential(\n",
    "            nn.Linear(110, 256),    # 110 = 100(무작위 텐서의 크기) + 10(무작위 레이블 수)\n",
    "            nn.LeakyReLU(0.2, inplace=True),   # inplace=True : 입력을 복사하지 않고 바로 조작\n",
    "            nn.Linear(256, 512),\n",
    "            nn.LeakyReLU(0.2, inplace=True),\n",
    "            nn.Linear(512, 1024),\n",
    "            nn.LeakyReLU(0.2, inplace=True),\n",
    "            nn.Linear(1024, 784),\n",
    "            nn.Tanh()\n",
    "        )\n",
    "        \n",
    "    def forward(self, z, labels):\n",
    "        c = self.embed(labels)  # 클래스 레이블\n",
    "        x = torch.cat([z,c], 1)  # 무작위 벡터와 클래스 레이블을 이어붙임\n",
    "        return self.model(x)"
   ]
  },
  {
   "cell_type": "code",
   "execution_count": 9,
   "metadata": {},
   "outputs": [],
   "source": [
    "# Discriminator\n",
    "class Discriminator(nn.Module):\n",
    "    def __init__(self):\n",
    "        super().__init__()\n",
    "        \n",
    "        self.embed = nn.Embedding(10, 10)\n",
    "        \n",
    "        self.model = nn.Sequential(\n",
    "            nn.Linear(794, 1024),    # 794 = 784(이미지 크기) + 10(레이블 수)\n",
    "            nn.LeakyReLU(0.2, inplace=True),\n",
    "            nn.Dropout(0.3),\n",
    "            nn.Linear(1024, 512),\n",
    "            nn.LeakyReLU(0.2, inplace=True),\n",
    "            nn.Dropout(0.3),\n",
    "            nn.Linear(512, 256),\n",
    "            nn.LeakyReLU(0.2, inplace=True),\n",
    "            nn.Dropout(0.3),\n",
    "            nn.Linear(256, 1),\n",
    "            nn.Sigmoid()     # 0~1 값 반환\n",
    "        )\n",
    "        \n",
    "    def forward(self, x, labels):\n",
    "        c = self.embed(labels)\n",
    "        x = torch.cat([x, c], 1)\n",
    "        return self.model(x)"
   ]
  },
  {
   "cell_type": "code",
   "execution_count": 10,
   "metadata": {},
   "outputs": [],
   "source": [
    "D = Discriminator().to(DEVICE)\n",
    "G = Generator().to(DEVICE)"
   ]
  },
  {
   "cell_type": "code",
   "execution_count": 11,
   "metadata": {},
   "outputs": [],
   "source": [
    "# 오차함수 : 이진 교차 엔트로피\n",
    "criterion = nn.BCELoss()\n",
    " \n",
    "# 최적화 알고리즘 : Adam\n",
    "d_optimizer = optim.Adam(D.parameters(), lr=0.0002)\n",
    "g_optimizer = optim.Adam(G.parameters(), lr=0.0002)"
   ]
  },
  {
   "cell_type": "code",
   "execution_count": null,
   "metadata": {},
   "outputs": [
    {
     "name": "stdout",
     "output_type": "stream",
     "text": [
      "epoch [0/500] d_loss:0.4086 g_loss:4.2491 D(x):0.93 D(G(z)):0.18\n",
      "epoch [1/500] d_loss:0.5245 g_loss:3.3247 D(x):0.88 D(G(z)):0.20\n",
      "epoch [2/500] d_loss:0.3712 g_loss:4.4737 D(x):0.96 D(G(z)):0.18\n",
      "epoch [3/500] d_loss:0.4974 g_loss:6.4356 D(x):0.83 D(G(z)):0.06\n",
      "epoch [4/500] d_loss:0.3505 g_loss:3.3956 D(x):0.88 D(G(z)):0.10\n",
      "epoch [5/500] d_loss:0.7940 g_loss:2.4891 D(x):0.83 D(G(z)):0.28\n",
      "epoch [6/500] d_loss:0.4003 g_loss:2.7625 D(x):0.84 D(G(z)):0.12\n",
      "epoch [7/500] d_loss:0.7553 g_loss:2.0209 D(x):0.82 D(G(z)):0.28\n",
      "epoch [8/500] d_loss:0.7768 g_loss:2.0918 D(x):0.73 D(G(z)):0.21\n",
      "epoch [9/500] d_loss:0.7210 g_loss:1.7082 D(x):0.77 D(G(z)):0.26\n",
      "epoch [10/500] d_loss:0.8232 g_loss:1.7130 D(x):0.70 D(G(z)):0.23\n",
      "epoch [11/500] d_loss:1.0734 g_loss:1.5980 D(x):0.64 D(G(z)):0.29\n",
      "epoch [12/500] d_loss:0.7543 g_loss:1.7847 D(x):0.76 D(G(z)):0.24\n",
      "epoch [13/500] d_loss:0.9348 g_loss:1.6716 D(x):0.70 D(G(z)):0.32\n",
      "epoch [14/500] d_loss:0.7871 g_loss:2.3026 D(x):0.75 D(G(z)):0.23\n",
      "epoch [15/500] d_loss:1.2551 g_loss:1.3247 D(x):0.60 D(G(z)):0.37\n",
      "epoch [16/500] d_loss:1.0086 g_loss:1.5232 D(x):0.65 D(G(z)):0.29\n",
      "epoch [17/500] d_loss:0.9490 g_loss:1.3339 D(x):0.70 D(G(z)):0.35\n",
      "epoch [18/500] d_loss:1.2134 g_loss:1.1030 D(x):0.63 D(G(z)):0.44\n",
      "epoch [19/500] d_loss:0.8857 g_loss:1.4986 D(x):0.70 D(G(z)):0.29\n",
      "epoch [20/500] d_loss:0.9210 g_loss:1.3046 D(x):0.72 D(G(z)):0.36\n",
      "epoch [21/500] d_loss:0.9888 g_loss:1.4645 D(x):0.72 D(G(z)):0.32\n",
      "epoch [22/500] d_loss:1.0260 g_loss:1.9980 D(x):0.63 D(G(z)):0.24\n",
      "epoch [23/500] d_loss:0.9394 g_loss:1.5572 D(x):0.64 D(G(z)):0.29\n",
      "epoch [24/500] d_loss:1.0589 g_loss:1.0967 D(x):0.60 D(G(z)):0.35\n",
      "epoch [25/500] d_loss:1.0351 g_loss:0.9636 D(x):0.72 D(G(z)):0.43\n",
      "epoch [26/500] d_loss:1.1200 g_loss:1.0980 D(x):0.64 D(G(z)):0.40\n",
      "epoch [27/500] d_loss:1.2592 g_loss:1.2725 D(x):0.64 D(G(z)):0.42\n"
     ]
    }
   ],
   "source": [
    "total_step = len(train_loader)\n",
    "\n",
    "for epoch in range(EPOCHS):  # GAN 학습\n",
    "    for i, (images, labels) in enumerate(train_loader):\n",
    "        images = images.reshape(BATCH_SIZE, -1).to(DEVICE)\n",
    "        \n",
    "        real_labels = torch.ones(BATCH_SIZE, 1).to(DEVICE)\n",
    "        fake_labels = torch.zeros(BATCH_SIZE, 1).to(DEVICE)\n",
    "        \n",
    "        # discriminator가 진짜 이미지를 진짜로 인식하는 오차 계산 (레이블 입력)\n",
    "        labels = labels.to(DEVICE)\n",
    "        outputs = D(images, labels)\n",
    "        d_loss_real = criterion(outputs, real_labels)\n",
    "        real_score = outputs\n",
    "        \n",
    "        # 무작위 텐서와 무작위 레이블을 생성자에 입력해 가짜 이미지 생성\n",
    "        z = torch.randn(BATCH_SIZE, 100).to(DEVICE)\n",
    "        g_label = torch.randint(0,10, (BATCH_SIZE,)).to(DEVICE)\n",
    "        fake_images = G(z, g_label)\n",
    "        \n",
    "        outputs = D(fake_images, g_label)\n",
    "        d_loss_fake = criterion(outputs, fake_labels)\n",
    "        fake_score = outputs\n",
    "        \n",
    "        # Discriminator의 오차 구함\n",
    "        d_loss = d_loss_real + d_loss_fake\n",
    "        \n",
    "        # Discriminator 학습\n",
    "        d_optimizer.zero_grad()\n",
    "        g_optimizer.zero_grad()\n",
    "        d_loss.backward()\n",
    "        d_optimizer.step()\n",
    "        \n",
    "        # Generator가 Discriminator를 속였는지에 대한 오차 계산 (무작위 레이블 입력)\n",
    "        fake_images = G(z, g_label)\n",
    "        outputs = D(fake_images, g_label)\n",
    "        g_loss = criterion(outputs, real_labels)\n",
    "        \n",
    "        # Generator 학습\n",
    "        d_optimizer.zero_grad()\n",
    "        g_optimizer.zero_grad()\n",
    "        g_loss.backward()\n",
    "        g_optimizer.step()\n",
    "        \n",
    "    # 학습 진행 알아보기\n",
    "    # D(x): 진짜를 진짜로 인식, D(G(z)): 가짜를 진짜로 인식\n",
    "    print('epoch [{}/{}] d_loss:{:.4f} g_loss:{:.4f} D(x):{:.2f} D(G(z)):{:.2f}'.format(epoch, EPOCHS, d_loss.item(), g_loss.item(), real_score.mean().item(), fake_score.mean().item()))"
   ]
  },
  {
   "cell_type": "code",
   "execution_count": null,
   "metadata": {},
   "outputs": [],
   "source": [
    "# label : 이름\n",
    "# 0: 티셔츠\n",
    "# 1: 바지\n",
    "# 2: 스웨터\n",
    "# 3: 드레스\n",
    "# 4: 코트\n",
    "# 5:샌들\n",
    "# 6: 셔츠\n",
    "# 7: 신발\n",
    "# 8: 가방\n",
    "# 9: 부츠"
   ]
  },
  {
   "cell_type": "code",
   "execution_count": null,
   "metadata": {},
   "outputs": [],
   "source": [
    "# 만들고 싶은 아이템 생성하여 시각화\n",
    "item_number = 9  # label 번호\n",
    "z = torch.randn(1, 100).to(DEVICE)   # 배치 크기 1\n",
    "g_label = torch.full((1,), item_number, dtype=torch.long).to(DEVICE)   # torch.full : 새로운 텐서를 만드는 함수, 1번째 인자: 텐서 크기, 2번째 인자: 텐서를 초기화할 값\n",
    "\n",
    "sample_images = G(z, g_label)\n",
    "\n",
    "sample_images_img = np.reshape(sample_images.data.cpu().numpy()[0], (28,28))   # 텐서를 시각화하기 위해 numpy 행렬로 바꿈\n",
    "plt.imshow(sample_images_img, cmap='gray')\n",
    "plt.show()"
   ]
  },
  {
   "cell_type": "code",
   "execution_count": null,
   "metadata": {},
   "outputs": [],
   "source": []
  }
 ],
 "metadata": {
  "kernelspec": {
   "display_name": "Python 3",
   "language": "python",
   "name": "python3"
  },
  "language_info": {
   "codemirror_mode": {
    "name": "ipython",
    "version": 3
   },
   "file_extension": ".py",
   "mimetype": "text/x-python",
   "name": "python",
   "nbconvert_exporter": "python",
   "pygments_lexer": "ipython3",
   "version": "3.7.4"
  }
 },
 "nbformat": 4,
 "nbformat_minor": 2
}
