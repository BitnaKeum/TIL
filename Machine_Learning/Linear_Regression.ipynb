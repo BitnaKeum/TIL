{
  "nbformat": 4,
  "nbformat_minor": 0,
  "metadata": {
    "colab": {
      "name": "Linear Regression.ipynb",
      "provenance": [],
      "collapsed_sections": [],
      "authorship_tag": "ABX9TyOC/l/oypfJOrYPQX/8zVQK"
    },
    "kernelspec": {
      "name": "python3",
      "display_name": "Python 3"
    },
    "language_info": {
      "name": "python"
    }
  },
  "cells": [
    {
      "cell_type": "code",
      "metadata": {
        "id": "-lTEJMi-Xdg4"
      },
      "source": [
        "import numpy as np"
      ],
      "execution_count": 1,
      "outputs": []
    },
    {
      "cell_type": "code",
      "metadata": {
        "id": "VTJa3GDLXkp6"
      },
      "source": [
        "x_train = np.array([1, 2, 3, 4, 5, 6], dtype=np.float64)\n",
        "y_train = np.array([4, 7, 10, 13, 16, 19], dtype=np.float64)\n",
        "# 정답 : W = 3, b = 6"
      ],
      "execution_count": 8,
      "outputs": []
    },
    {
      "cell_type": "code",
      "metadata": {
        "id": "-X_TFo-BYHrq"
      },
      "source": [
        "W = np.random.rand(1)[0]\n",
        "b = np.random.rand(1)[0]"
      ],
      "execution_count": 33,
      "outputs": []
    },
    {
      "cell_type": "code",
      "metadata": {
        "colab": {
          "base_uri": "https://localhost:8080/"
        },
        "id": "VkavEYayhs0G",
        "outputId": "b2a0218e-3c66-420d-92d6-9b6f4ffc06c3"
      },
      "source": [
        "print(W)\n",
        "print(b)"
      ],
      "execution_count": 34,
      "outputs": [
        {
          "output_type": "stream",
          "name": "stdout",
          "text": [
            "0.27048475986525944\n",
            "0.25089287140936145\n"
          ]
        }
      ]
    },
    {
      "cell_type": "code",
      "metadata": {
        "id": "gsXC6qwmXrI7"
      },
      "source": [
        "n = len(x_train)\n",
        "\n",
        "epochs = 5000\n",
        "learning_rate = 0.01"
      ],
      "execution_count": 35,
      "outputs": []
    },
    {
      "cell_type": "code",
      "metadata": {
        "colab": {
          "base_uri": "https://localhost:8080/"
        },
        "id": "VBJ91NX4YKwn",
        "outputId": "4f917e06-a1d8-4ee0-f30d-1245b72637f5"
      },
      "source": [
        "for epoch in range(epochs):\n",
        "  hypothesis = W * x_train + b\n",
        "  cost = np.sum((hypothesis - y_train) ** 2) / 2 / n\n",
        "\n",
        "  # 파라미터 update\n",
        "  gradient_W = np.sum((hypothesis - y_train) * x_train) / n\n",
        "  gradient_b = np.sum((hypothesis - y_train)) / n\n",
        "  W = W - gradient_W * learning_rate\n",
        "  b = b - gradient_b * learning_rate\n",
        "\n",
        "  if (epoch + 1) % 200 == 0:\n",
        "    print('Epoch {:5d}  cost: {:10f},  W: {:10f},  b: {:10f}'.format(epoch+1, cost, W, b))"
      ],
      "execution_count": 36,
      "outputs": [
        {
          "output_type": "stream",
          "name": "stdout",
          "text": [
            "Epoch   200  cost:   0.000520,  W:   3.017147,  b:   0.926590\n",
            "Epoch   400  cost:   0.000251,  W:   3.011900,  b:   0.949053\n",
            "Epoch   600  cost:   0.000121,  W:   3.008259,  b:   0.964643\n",
            "Epoch   800  cost:   0.000058,  W:   3.005732,  b:   0.975462\n",
            "Epoch  1000  cost:   0.000028,  W:   3.003978,  b:   0.982970\n",
            "Epoch  1200  cost:   0.000013,  W:   3.002761,  b:   0.988181\n",
            "Epoch  1400  cost:   0.000006,  W:   3.001916,  b:   0.991798\n",
            "Epoch  1600  cost:   0.000003,  W:   3.001330,  b:   0.994308\n",
            "Epoch  1800  cost:   0.000002,  W:   3.000923,  b:   0.996050\n",
            "Epoch  2000  cost:   0.000001,  W:   3.000640,  b:   0.997258\n",
            "Epoch  2200  cost:   0.000000,  W:   3.000444,  b:   0.998097\n",
            "Epoch  2400  cost:   0.000000,  W:   3.000308,  b:   0.998680\n",
            "Epoch  2600  cost:   0.000000,  W:   3.000214,  b:   0.999084\n",
            "Epoch  2800  cost:   0.000000,  W:   3.000149,  b:   0.999364\n",
            "Epoch  3000  cost:   0.000000,  W:   3.000103,  b:   0.999559\n",
            "Epoch  3200  cost:   0.000000,  W:   3.000072,  b:   0.999694\n",
            "Epoch  3400  cost:   0.000000,  W:   3.000050,  b:   0.999787\n",
            "Epoch  3600  cost:   0.000000,  W:   3.000034,  b:   0.999852\n",
            "Epoch  3800  cost:   0.000000,  W:   3.000024,  b:   0.999898\n",
            "Epoch  4000  cost:   0.000000,  W:   3.000017,  b:   0.999929\n",
            "Epoch  4200  cost:   0.000000,  W:   3.000012,  b:   0.999951\n",
            "Epoch  4400  cost:   0.000000,  W:   3.000008,  b:   0.999966\n",
            "Epoch  4600  cost:   0.000000,  W:   3.000006,  b:   0.999976\n",
            "Epoch  4800  cost:   0.000000,  W:   3.000004,  b:   0.999984\n",
            "Epoch  5000  cost:   0.000000,  W:   3.000003,  b:   0.999989\n"
          ]
        }
      ]
    },
    {
      "cell_type": "code",
      "metadata": {
        "colab": {
          "base_uri": "https://localhost:8080/"
        },
        "id": "FRJUEIarY2zz",
        "outputId": "4a0e53c5-8a89-4f92-93c6-4366d270b060"
      },
      "source": [
        "print('최종 W: {:10f}, b: {:10f}'.format(W, b))\n",
        "print(W * x_train + b)"
      ],
      "execution_count": 40,
      "outputs": [
        {
          "output_type": "stream",
          "name": "stdout",
          "text": [
            "최종 W:   3.000003, b:   0.999989\n",
            "[ 3.99999123  6.9999939   9.99999658 12.99999925 16.00000192 19.00000459]\n"
          ]
        }
      ]
    },
    {
      "cell_type": "code",
      "metadata": {
        "id": "RGs_IwbYY5FM"
      },
      "source": [
        ""
      ],
      "execution_count": null,
      "outputs": []
    }
  ]
}