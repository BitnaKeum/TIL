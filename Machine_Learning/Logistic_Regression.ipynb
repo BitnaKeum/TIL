{
  "nbformat": 4,
  "nbformat_minor": 0,
  "metadata": {
    "colab": {
      "name": "Logistic Regression.ipynb",
      "provenance": [],
      "collapsed_sections": [],
      "authorship_tag": "ABX9TyMhJlP5RVJG1Kaw3hOfZFGq"
    },
    "kernelspec": {
      "name": "python3",
      "display_name": "Python 3"
    },
    "language_info": {
      "name": "python"
    }
  },
  "cells": [
    {
      "cell_type": "code",
      "metadata": {
        "id": "CDtL3tvFv-Wn"
      },
      "source": [
        "import numpy as np"
      ],
      "execution_count": 24,
      "outputs": []
    },
    {
      "cell_type": "code",
      "metadata": {
        "colab": {
          "base_uri": "https://localhost:8080/"
        },
        "id": "zU1QoCi9wBTe",
        "outputId": "79c233d0-32f9-48d0-b81a-e874338bdad7"
      },
      "source": [
        "x_train = np.array([[10, 25, 15],\n",
        "                    [20, 30, 25],\n",
        "                    [70, 75, 90],\n",
        "                    [90, 80, 100]])\n",
        "y_train = np.array([0, 0, 1, 1])\n",
        "\n",
        "print(x_train.shape)\n",
        "print(y_train.shape)"
      ],
      "execution_count": 99,
      "outputs": [
        {
          "output_type": "stream",
          "name": "stdout",
          "text": [
            "(4, 3)\n",
            "(4,)\n"
          ]
        }
      ]
    },
    {
      "cell_type": "code",
      "metadata": {
        "id": "hTQMf9CmhJen"
      },
      "source": [
        "use_bias = False"
      ],
      "execution_count": 100,
      "outputs": []
    },
    {
      "cell_type": "code",
      "metadata": {
        "id": "7D12JBS8eP3a"
      },
      "source": [
        "if use_bias:\n",
        "  b = np.ones((x_train.shape[0], 1))\n",
        "  x_train = np.concatenate((b, x_train), axis=1)\n",
        "  print(x_train)"
      ],
      "execution_count": 101,
      "outputs": []
    },
    {
      "cell_type": "code",
      "metadata": {
        "colab": {
          "base_uri": "https://localhost:8080/"
        },
        "id": "rUrteAFQgMZ-",
        "outputId": "0107ef30-faf1-4d14-b785-4f6aca5aed85"
      },
      "source": [
        "W = np.random.rand(x_train.shape[1])\n",
        "print(W)"
      ],
      "execution_count": 102,
      "outputs": [
        {
          "output_type": "stream",
          "name": "stdout",
          "text": [
            "[0.56333908 0.65361235 0.14310761]\n"
          ]
        }
      ]
    },
    {
      "cell_type": "code",
      "metadata": {
        "id": "G7xZlLypwob9"
      },
      "source": [
        "def sigmoid(x):\n",
        "  return 1 / (1 + np.exp(-x))"
      ],
      "execution_count": 103,
      "outputs": []
    },
    {
      "cell_type": "code",
      "metadata": {
        "id": "l1F4nMZWyVCo"
      },
      "source": [
        "n = len(y_train)\n",
        "\n",
        "epochs = 10000\n",
        "learning_rate = 0.01"
      ],
      "execution_count": 104,
      "outputs": []
    },
    {
      "cell_type": "code",
      "metadata": {
        "colab": {
          "base_uri": "https://localhost:8080/"
        },
        "id": "hg0XHhjrw64W",
        "outputId": "cfd336df-c028-4449-e961-be7cc5ab8183"
      },
      "source": [
        "for epoch in range(epochs):\n",
        "  hypothesis = sigmoid(np.dot(x_train, W)) # (4,1)\n",
        "  cost = -(y_train * np.log(hypothesis) + (1 - y_train) * np.log(1 - hypothesis)).mean()\n",
        "\n",
        "  # 파라미터 update\n",
        "  gradient_W = np.dot(x_train.transpose(), hypothesis - y_train) / n # (3,1)\n",
        "  W = W - gradient_W * learning_rate  # (3,1)\n",
        "\n",
        "  if (epoch + 1) % 500 == 0:\n",
        "    print('Epoch {:5d}  cost: {:10f}'.format(epoch + 1, cost))"
      ],
      "execution_count": 105,
      "outputs": [
        {
          "output_type": "stream",
          "name": "stderr",
          "text": [
            "/usr/local/lib/python3.7/dist-packages/ipykernel_launcher.py:3: RuntimeWarning: divide by zero encountered in log\n",
            "  This is separate from the ipykernel package so we can avoid doing imports until\n",
            "/usr/local/lib/python3.7/dist-packages/ipykernel_launcher.py:3: RuntimeWarning: invalid value encountered in multiply\n",
            "  This is separate from the ipykernel package so we can avoid doing imports until\n"
          ]
        },
        {
          "output_type": "stream",
          "name": "stdout",
          "text": [
            "Epoch   500  cost:   0.005655\n",
            "Epoch  1000  cost:   0.002951\n",
            "Epoch  1500  cost:   0.001997\n",
            "Epoch  2000  cost:   0.001509\n",
            "Epoch  2500  cost:   0.001213\n",
            "Epoch  3000  cost:   0.001014\n",
            "Epoch  3500  cost:   0.000871\n",
            "Epoch  4000  cost:   0.000764\n",
            "Epoch  4500  cost:   0.000680\n",
            "Epoch  5000  cost:   0.000612\n",
            "Epoch  5500  cost:   0.000557\n",
            "Epoch  6000  cost:   0.000511\n",
            "Epoch  6500  cost:   0.000472\n",
            "Epoch  7000  cost:   0.000439\n",
            "Epoch  7500  cost:   0.000410\n",
            "Epoch  8000  cost:   0.000384\n",
            "Epoch  8500  cost:   0.000362\n",
            "Epoch  9000  cost:   0.000342\n",
            "Epoch  9500  cost:   0.000324\n",
            "Epoch 10000  cost:   0.000308\n"
          ]
        }
      ]
    },
    {
      "cell_type": "code",
      "metadata": {
        "colab": {
          "base_uri": "https://localhost:8080/"
        },
        "id": "XI5FGkI6I8eM",
        "outputId": "a6328264-e584-4a5b-fe76-82071b791362"
      },
      "source": [
        "print(W)"
      ],
      "execution_count": 106,
      "outputs": [
        {
          "output_type": "stream",
          "name": "stdout",
          "text": [
            "[ 0.77402833 -1.05419285  0.36668913]\n"
          ]
        }
      ]
    },
    {
      "cell_type": "code",
      "metadata": {
        "colab": {
          "base_uri": "https://localhost:8080/"
        },
        "id": "7ujAcT2tR1Fb",
        "outputId": "20ad8720-9b27-49b0-dd8a-f9ecd4a4939c"
      },
      "source": [
        "x_test = np.array([[99, 90, 87],\n",
        "                   [20, 40, 25],\n",
        "                   [30, 40, 15],\n",
        "                   [70, 81, 89]])\n",
        "\n",
        "if use_bias:\n",
        "  b = np.ones((x_test.shape[0], 1))\n",
        "  x_test = np.concatenate((b, x_test), axis=1)\n",
        "answer = sigmoid(np.dot(x_test, W))\n",
        "print(answer)\n",
        "print(answer.round())"
      ],
      "execution_count": 107,
      "outputs": [
        {
          "output_type": "stream",
          "name": "stdout",
          "text": [
            "[9.99998824e-01 2.46147712e-08 1.44626151e-06 8.06541928e-01]\n",
            "[1. 0. 0. 1.]\n"
          ]
        }
      ]
    },
    {
      "cell_type": "markdown",
      "metadata": {
        "id": "kgmZwC8QkAqa"
      },
      "source": [
        "참고\n",
        "\n",
        "https://yamalab.tistory.com/79\n",
        "\n",
        "https://pythonkim.tistory.com/18"
      ]
    }
  ]
}