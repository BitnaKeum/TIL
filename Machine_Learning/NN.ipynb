{
  "nbformat": 4,
  "nbformat_minor": 0,
  "metadata": {
    "colab": {
      "name": "NN.ipynb",
      "provenance": [],
      "authorship_tag": "ABX9TyNHYg091pQQeZM09XRcIovz"
    },
    "kernelspec": {
      "name": "python3",
      "display_name": "Python 3"
    },
    "language_info": {
      "name": "python"
    }
  },
  "cells": [
    {
      "cell_type": "code",
      "metadata": {
        "id": "Bct2adiY5Gau"
      },
      "source": [
        "import numpy as np"
      ],
      "execution_count": 1,
      "outputs": []
    },
    {
      "cell_type": "code",
      "metadata": {
        "id": "xXHi_ATvCqmT"
      },
      "source": [
        "# input 2개, hidden layer1 노드 3개, hidden layer2 노드 2개, output 2개"
      ],
      "execution_count": null,
      "outputs": []
    },
    {
      "cell_type": "code",
      "metadata": {
        "colab": {
          "base_uri": "https://localhost:8080/"
        },
        "id": "7nIEmFS77pNi",
        "outputId": "09510407-c9dd-4fcd-90ab-dee3ed2728c2"
      },
      "source": [
        "def sigmoid(x):\n",
        "  return 1 / (1 + np.exp(-x))\n",
        "\n",
        "# hidden layer1\n",
        "\n",
        "X = np.array([1.0, 0.5])  # (1,2) -> 정확히는 (2,)\n",
        "W1 = np.array([[0.1, 0.3, 0.5], [0.2, 0.4, 0.6]]) # (2, 3)\n",
        "B1 = np.array([0.1, 0.2, 0.3])  # (1,3) -> 정확히는 (3,)\n",
        "\n",
        "output_hidden1 = np.dot(X, W1) + B1\n",
        "output_hidden1 = sigmoid(output_hidden1)\n",
        "\n",
        "print(output_hidden1.shape) # (1,3) -> 정확히는 (3,)"
      ],
      "execution_count": 5,
      "outputs": [
        {
          "output_type": "stream",
          "name": "stdout",
          "text": [
            "(3,)\n"
          ]
        }
      ]
    },
    {
      "cell_type": "code",
      "metadata": {
        "colab": {
          "base_uri": "https://localhost:8080/"
        },
        "id": "PzmFZ_UB_YAy",
        "outputId": "034a0930-a454-4846-848d-5a34fe430733"
      },
      "source": [
        "# hidden layer2\n",
        "\n",
        "W2 = np.array([[0.1, 0.4], [0.2, 0.5], [0.3, 0.6]]) # (3,2)\n",
        "B2 = np.array([0.1, 0.2]) # (1,2)\n",
        "\n",
        "output_hidden2 = np.dot(output_hidden1, W2) + B2\n",
        "output_hidden2 = sigmoid(output_hidden2)\n",
        "\n",
        "print(output_hidden2)\n",
        "print(output_hidden2.shape) # (1,2)"
      ],
      "execution_count": 9,
      "outputs": [
        {
          "output_type": "stream",
          "name": "stdout",
          "text": [
            "[0.62624937 0.7710107 ]\n",
            "(2,)\n"
          ]
        }
      ]
    },
    {
      "cell_type": "code",
      "metadata": {
        "colab": {
          "base_uri": "https://localhost:8080/"
        },
        "id": "FMGjgWzj_cTy",
        "outputId": "895b77d4-56da-47b1-9b0a-2c475710d5fc"
      },
      "source": [
        "# output layer\n",
        "\n",
        "def identity_function(x): # activation function\n",
        "  return x\n",
        "\n",
        "W3 = np.array([[0.1, 0.3], [0.2, 0.4]]) # (2,2)\n",
        "B3 = np.array([0.1, 0.2]) # (1,2)\n",
        "\n",
        "output = np.dot(output_hidden2, W3) + B3\n",
        "output = identity_function(output)\n",
        "\n",
        "print(\"최종 출력 : \", output)"
      ],
      "execution_count": 10,
      "outputs": [
        {
          "output_type": "stream",
          "name": "stdout",
          "text": [
            "최종 출력 :  [0.31682708 0.69627909]\n"
          ]
        }
      ]
    },
    {
      "cell_type": "code",
      "metadata": {
        "id": "rQLQ2KA2Dmma"
      },
      "source": [
        ""
      ],
      "execution_count": null,
      "outputs": []
    }
  ]
}