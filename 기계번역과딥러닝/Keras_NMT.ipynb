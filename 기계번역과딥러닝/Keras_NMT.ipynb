{
  "nbformat": 4,
  "nbformat_minor": 0,
  "metadata": {
    "colab": {
      "name": "Keras_NMT.ipynb",
      "provenance": [],
      "collapsed_sections": []
    },
    "kernelspec": {
      "name": "python3",
      "display_name": "Python 3"
    },
    "accelerator": "GPU"
  },
  "cells": [
    {
      "cell_type": "code",
      "metadata": {
        "id": "V2TPNoqAx-1B",
        "colab": {
          "base_uri": "https://localhost:8080/"
        },
        "outputId": "8251089c-9fa2-4513-9b36-a829d5a2230b"
      },
      "source": [
        "from google.colab import drive\n",
        "drive.mount('/content/drive')"
      ],
      "execution_count": null,
      "outputs": [
        {
          "output_type": "stream",
          "text": [
            "Mounted at /content/drive\n"
          ],
          "name": "stdout"
        }
      ]
    },
    {
      "cell_type": "markdown",
      "metadata": {
        "id": "BW0Us6B0oU4U"
      },
      "source": [
        "# 1. 케라스를 이용한 인공신경망 기계번역(Neural Machine Translation)\n",
        "\n"
      ]
    },
    {
      "cell_type": "markdown",
      "metadata": {
        "id": "ZxG45tKauiGw"
      },
      "source": [
        "## 1) 데이터 정렬"
      ]
    },
    {
      "cell_type": "code",
      "metadata": {
        "id": "b1JJVMGPul_E",
        "colab": {
          "base_uri": "https://localhost:8080/"
        },
        "outputId": "1430a6ab-6282-4944-a262-beaef1727341"
      },
      "source": [
        "import string\n",
        "import re\n",
        "from pickle import dump\n",
        "from unicodedata import normalize\n",
        "from numpy import array\n",
        "\n",
        "# load doc into memory\n",
        "def load_doc(filename):\n",
        "\t# open the file as read only\n",
        "\tfile = open(filename, mode='rt', encoding='utf-8')\n",
        "\t# read all text\n",
        "\ttext = file.read()\n",
        "\t# close the file\n",
        "\tfile.close()\n",
        "\treturn text\n",
        "\n",
        "# split a loaded document into sentences\n",
        "def to_pairs(doc):\n",
        "\tlines = doc.strip().split('\\n')\n",
        "\tpairs = [line.split('\\t') for line in  lines]\n",
        "\treturn pairs\n",
        "\n",
        "# clean a list of lines\n",
        "def clean_pairs(lines):\n",
        "\tcleaned = list()\n",
        "\t# prepare regex for char filtering\n",
        "\tre_print = re.compile('[^%s]' % re.escape(string.printable))\n",
        "\t# prepare translation table for removing punctuation\n",
        "\ttable = str.maketrans('', '', string.punctuation)\n",
        "\tfor pair in lines:\n",
        "\t\tclean_pair = list()\n",
        "\t\tfor line in pair:\n",
        "\t\t\t# normalize unicode characters\n",
        "\t\t\t#line = normalize('NFD', line).encode('ascii', 'ignore')\n",
        "\t\t\t#line = line.decode('UTF-8')\n",
        "\t\t\t# tokenize on white space\n",
        "\t\t\tline = line.split()\n",
        "\t\t\t# convert to lowercase\n",
        "\t\t\tline = [word.lower() for word in line]\n",
        "\t\t\t# remove punctuation from each token\n",
        "\t\t\tline = [word.translate(table) for word in line]\n",
        "\t\t\t# remove non-printable chars form each token\n",
        "\t\t\t#line = [re_print.sub('', w) for w in line]\n",
        "\t\t\t# remove tokens with numbers in them\n",
        "\t\t\t#line = [word for word in line if word.isalpha()]\n",
        "\t\t\t# store as string\n",
        "\t\t\tclean_pair.append(' '.join(line))\n",
        "\t\tcleaned.append(clean_pair)\n",
        "\treturn array(cleaned)\n",
        "\n",
        "# save a list of clean sentences to file\n",
        "def save_clean_data(sentences, filename):\n",
        "\tdump(sentences, open(filename, 'wb'))\n",
        "\tprint('Saved: %s' % filename)\n",
        "\n",
        "# load dataset\n",
        "filename = '/content/drive/MyDrive/keTM.txt'\n",
        "doc = load_doc(filename)\n",
        "# split into english-german pairs\n",
        "pairs = to_pairs(doc)\n",
        "# clean sentences\n",
        "clean_pairs = clean_pairs(pairs)\n",
        "# save clean pairs to file\n",
        "save_clean_data(clean_pairs, 'korean-english.pkl')\t# 데이터가 저장된 파일이 생성됨\n",
        "# spot check\n",
        "for i in range(100):\n",
        "\tprint('[%s] => [%s]' % (clean_pairs[i,0], clean_pairs[i,1]))"
      ],
      "execution_count": null,
      "outputs": [
        {
          "output_type": "stream",
          "text": [
            "Saved: korean-english.pkl\n",
            "[제1조목적] => [article 1 purpose]\n",
            "[이 법은 발명을 보호ㆍ장려하고 그 이용을 도모함으로써 기술의 발전을 촉진하여 산업발전에 이바지함을 목적으로 한다] => [the purpose of this act is to promote the development of technologies and to contribute to industrial development by protecting and supporting inventions and promoting the use of inventions]\n",
            "[제2조정의] => [article 2 definitions]\n",
            "[이 법에서 사용하는 용어의 뜻은 다음과 같다] => [the terms used in this act shall be defined as follows]\n",
            "[발명이란 자연법칙을 이용한 기술적 사상의 창작으로서 고도高度한 것을 말한다] => [the term invention means the highly advanced creation of a technical idea utilizing the laws of nature]\n",
            "[특허발명이란 특허를 받은 발명을 말한다] => [the term patented invention means an invention for which a patent has been granted]\n",
            "[실시란 다음 각 목의 구분에 따른 행위를 말한다] => [the term practice means any of the following activities]\n",
            "[물건의 발명인 경우 그 물건을 생산ㆍ사용ㆍ양도ㆍ대여 또는 수입하거나 그 물건의 양도 또는 대여의 청약양도 또는 대여를 위한 전시를 포함한다이하 같다을 하는 행위] => [an invention of a thing manufacturing using assigning leasing or importing the thing or offering to assign or lease the thing including displaying the thing for the purpose of assigning or lease hereinafter the same shall apply]\n",
            "[방법의 발명인 경우 그 방법을 사용하는 행위] => [an invention of a process using the process]\n",
            "[물건을 생산하는 방법의 발명인 경우 나목의 행위 외에 그 방법에 의하여 생산한 물건을 사용ㆍ양도ㆍ대여 또는 수입하거나 그 물건의 양도 또는 대여의 청약을 하는 행위] => [an invention of a process of manufacturing a thing using assigning leasing or importing the thing manufactured by the process or offering to assign or lease the thing other than the activities specified in item b]\n",
            "[제3조미성년자 등의 행위능력] => [article 3 legal capacity of minors etc]\n",
            "[미성년자ㆍ피한정후견인 또는 피성년후견인은 법정대리인에 의하지 아니하면 특허에 관한 출원ㆍ청구 그 밖의 절차이하 특허에 관한 절차라 한다를 밟을 수 없다 다만 미성년자와 피한정후견인이 독립하여 법률행위를 할 수 있는 경우에는 그러하지 아니하다] => [no minor person under limited guardianship nor person under adult guardianship shall file any application or request or initiate any other procedure in connection with any patent hereinafter referred to as patentrelated procedure unless represented by hisher legal representative provided that the foregoing shall not apply where a minor or a person under limited guardianship is able to engage in a legal act independently]\n",
            "[제1항의 법정대리인은 후견감독인의 동의 없이 제132조의2에 따른 특허취소신청이하 특허취소신청이라 한다이나 상대방이 청구한 심판 또는 재심에 대한 절차를 밟을 수 있다] => [the legal representative referred to in paragraph 1 may take procedures for filing an application for revoking a patent under article 1322 hereinafter referred to as application for revoking a patent or for a trial or retrial initiated by the other party without consent of the supervisor of guardianship]\n",
            "[제4조법인이 아닌 사단 등] => [article 4 unincorporated associations etc]\n",
            "[법인이 아닌 사단 또는 재단으로서 대표자나 관리인이 정하여져 있는 경우에는 그 사단 또는 재단의 이름으로 출원심사의 청구인 특허취소신청인 심판의 청구인ㆍ피청구인 또는 재심의 청구인ㆍ피청구인이 될 수 있다] => [a representative or an administrator appointed by an unincorporated association or foundation may become a petitioner requesting the examination of a patent application an applicant for revoking a patent or a petitioner or defendant for a trial or retrial in the name of the unincorporated association or foundation]\n",
            "[제5조재외자의 특허관리인] => [article 5 patent administrators for overseas residents]\n",
            "[국내에 주소 또는 영업소가 없는 자이하 재외자라 한다는 재외자법인의 경우에는 그 대표자가 국내에 체류하는 경우를 제외하고는 그 재외자의 특허에 관한 대리인으로서 국내에 주소 또는 영업소가 있는 자이하 특허관리인이라 한다에 의해서만 특허에 관한 절차를 밟거나 이 법 또는 이 법에 따른 명령에 따라 행정청이 한 처분에 대하여 소訴를 제기할 수 있다] => [no person with no domicile or place of business in the republic of korea hereinafter referred to as “overseas resident” shall initiate any patentrelated procedure or file legal proceedings against a disposition made by an administrative authority under this act or an order issued under this act unless heshe is represented by an agent with respect to hisher patent who has a domicile or place of business in the republic of korea hereinafter referred to as “patent administrator” except where the overseas resident or the representative if the overseas resident is a corporation sojourns in the republic of korea]\n",
            "[특허관리인은 위임된 권한의 범위에서 특허에 관한 모든 절차 및 이 법 또는 이 법에 따른 명령에 따라 행정청이 한 처분에 관한 소송에서 본인을 대리한다] => [a patent administrator shall represent the principal in all patentrelated procedures and legal proceedings filed with respect to a disposition made by an administrative authority under this act or an order issued under this act within the scope of authority delegated to himher]\n",
            "[제6조대리권의 범위] => [article 6 scope of agency authority]\n",
            "[국내에 주소 또는 영업소가 있는 자로부터 특허에 관한 절차를 밟을 것을 위임받은 대리인은 특별히 권한을 위임받아야만 다음 각 호의 어느 하나에 해당하는 행위를 할 수 있다] => [an agent to whom agency authority is granted by a person who has a domicile or place of business in the republic of korea may conduct any of the following acts only if expressly authorized so]\n",
            "[특허관리인의 경우에도 또한 같다 개정 2016229] => [the foregoing shall also apply to a patent administrator amended by act no 14035 feb 29 2016]\n",
            "[특허출원의 변경ㆍ포기ㆍ취하] => [to modify abandon or withdraw a patent application]\n",
            "[특허권의 포기] => [to relinquish a patent]\n",
            "[제132조의17에 따른 심판청구] => [to file a petition for trial under article 13217]\n",
            "[복대리인의 선임] => [to appoint a subagent]\n",
            "[제7조대리권의 증명] => [article 7 verification of agency authority]\n",
            "[특허에 관한 절차를 밟는 자의 대리인특허관리인을 포함한다 이하 같다의 대리권은 서면으로써 증명하여야 한다] => [a person who initiates a patentrelated procedure as an agent including a patent administrator hereinafter the same shall apply shall verify hisher agency authority in writing]\n",
            "[제7조의2행위능력 등의 흠에 대한 추인] => [article 72 ratification of acts of persons lacking legal capacity etc]\n",
            "[행위능력 또는 법정대리권이 없거나 특허에 관한 절차를 밟는 데 필요한 권한의 위임에 흠이 있는 자가 밟은 절차는 보정補正된 당사자나 법정대리인이 추인하면 행위를 한 때로 소급하여 그 효력이 발생한다] => [procedures initiated by a person who lacks legal capacity or authority for legal representation or by a person whose delegated authority is defective which is necessary for initiating a patentrelated procedure shall take effect retroactively back to the time such procedures were initiated if the procedures are ratified by the principal or legal representative when heshe has gained capacity to proceed]\n",
            "[제8조대리권의 불소멸] => [article 8 survival of agency authority]\n",
            "[특허에 관한 절차를 밟는 자의 위임을 받은 대리인의 대리권은 다음 각 호의 어느 하나에 해당하는 사유가 있어도 소멸하지 아니한다] => [the agency authority granted to an agent by a person who initiates a patentrelated procedure shall survive even in any of the following events]\n",
            "[본인의 사망이나 행위능력의 상실] => [the principal’s death or loss of legal capacity]\n",
            "[본인인 법인의 합병에 의한 소멸] => [the corporate principal’s dissolution in the course of a merger]\n",
            "[본인인 수탁자受託者의 신탁임무 종료] => [the termination of the principal’s duty as a trustee]\n",
            "[법정대리인의 사망이나 행위능력의 상실] => [the legal representative’s death or loss of legal capacity to act]\n",
            "[법정대리인의 대리권 소멸이나 변경] => [the termination of or a change in the legal representative’s agency authority]\n",
            "[제9조개별대리] => [article 9 independence of representation]\n",
            "[특허에 관한 절차를 밟는 자의 대리인이 2인 이상이면 특허청장 또는 특허심판원장에 대하여 각각의 대리인이 본인을 대리한다] => [if a person who initiates a patentrelated procedure is represented by at least two agents each of them shall independently represent the principal before the commissioner of the korean intellectual property office or the president of the korean intellectual property trial and appeal board]\n",
            "[제10조대리인의 선임 또는 개임 명령 등] => [article 10 orders to appoint or replace agents etc]\n",
            "[특허청장 또는 제145조제1항에 따라 지정된 심판장이하 심판장이라 한다은 특허에 관한 절차를 밟는 자가 그 절차를 원활히 수행할 수 없거나 구술심리口述審理에서 진술할 능력이 없다고 인정되는 등 그 절차를 밟는 데 적당하지 아니하다고 인정되면 대리인을 선임하여 그 절차를 밟을 것을 명할 수 있다] => [if the commissioner of the korean intellectual property office or the presiding administrative patent judge appointed under article 145 1 hereinafter referred to as “presiding judge” finds that a person initiating a patentrelated procedure is unable to properly perform the procedure or to make a statement in oral hearings or is incompetent in initiating the procedure on any other ground heshe may issue an order to appoint an agent who shall initiate the procedure on behalf of the person]\n",
            "[특허청장 또는 심판장은 특허에 관한 절차를 밟는 자의 대리인이 그 절차를 원활히 수행할 수 없거나 구술심리에서 진술할 능력이 없다고 인정되는 등 그 절차를 밟는 데 적당하지 아니하다고 인정되면 그 대리인을 바꾸어 선임할 것을 명할 수 있다] => [if the commissioner of the korean intellectual property office or a presiding judge finds that an agent who initiates a patentrelated procedure is unable to properly perform the procedure or to make a statement in oral hearings or is incompetent in initiating the procedure on any other ground heshe may issue an order to replace the agent with another agent]\n",
            "[특허청장 또는 심판장은 제1항 및 제2항의 경우에 변리사로 하여금 대리하게 할 것을 명할 수 있다] => [in cases falling under paragraph 1 or 2 the commissioner of the korean intellectual property office or a presiding judge may order a patent attorney to represent the relevant person]\n",
            "[특허청장 또는 심판장은 제1항 또는 제2항에 따라 대리인을 선임하거나 대리인을 바꾸어 선임할 것을 명령한 경우에는 제1항에 따른 특허에 관한 절차를 밟는 자 또는 제2항에 따른 대리인이 그 전에 특허청장 또는 특허심판원장에 대하여 한 특허에 관한 절차의 전부 또는 일부를 무효로 할 수 있다] => [when the commissioner of the korean intellectual property office or a presiding judge orders a person to appoint or replace hisher agent under paragraph 1 or 2 heshe may completely or partially invalidate the patentrelated procedure initiated by the person under paragraph 1 or the agent under paragraph 2 before the commissioner of the korean intellectual property office or the president of the korean intellectual property trial and appeal board]\n",
            "[제11조복수당사자의 대표] => [article 11 representation by at least two persons]\n",
            "[2인 이상이 특허에 관한 절차를 밟을 때에는 다음 각 호의 어느 하나에 해당하는 사항을 제외하고는 각자가 모두를 대표한다 다만 대표자를 선정하여 특허청장 또는 특허심판원장에게 신고하면 그 대표자만이 모두를 대표할 수 있다] => [where at least two persons jointly perform a patentrelated procedure each of them shall represent all except for any of the following acts provided that if they appoint their representative and report to the commissioner of the korean intellectual property office or the president of the korean intellectual property trial and appeal board on the appointment only the representative may represent all of them]\n",
            "[특허출원의 변경ㆍ포기ㆍ취하] => [to modify abandon or withdraw a patent application]\n",
            "[특허권 존속기간의 연장등록출원의 취하] => [to withdraw an application for registering the extension of the term of a patent]\n",
            "[신청의 취하] => [to withdraw an application]\n",
            "[청구의 취하] => [to withdraw a request]\n",
            "[제55조제1항에 따른 우선권 주장 또는 그 취하] => [to claim a priority under article 55 1 or withdraw a priority claim]\n",
            "[제132조의17에 따른 심판청구] => [to file a petition for trial under article 13217]\n",
            "[제1항 단서에 따라 대표자를 선정하여 신고하는 경우에는 대표자로 선임된 사실을 서면으로 증명하여야 한다] => [when a report is filed under the proviso to paragraph 1 the appointment of the representative shall be evidenced in writing]\n",
            "[제12조「민사소송법」의 준용] => [article 12 application mutatis mutandis of the civil procedure act]\n",
            "[대리인에 관하여는 이 법에 특별한 규정이 있는 경우를 제외하고는 「민사소송법」 제1편제2장제4절을 준용한다] => [except as otherwise expressly provided for in this act section 4 of chapter ii of part i of the civil procedure act shall apply mutatis mutandis to agents]\n",
            "[제13조재외자의 재판관할] => [article 13 jurisdiction over overseas residents]\n",
            "[재외자의 특허권 또는 특허에 관한 권리에 관하여 특허관리인이 있으면 그 특허관리인의 주소 또는 영업소를 특허관리인이 없으면 특허청 소재지를 「민사소송법」 제11조에 따른 재산이 있는 곳으로 본다] => [if an overseas resident has appointed a patent administrator for hisher patents or any right in a patent the domicile or place of business of the patent administrator shall be deemed the place where the property is situated under article 11 of the civil procedure act whereas the seat of the korean intellectual property office shall be deemed the place where such property is situated if an overseas resident has not appointed a patent administrator]\n",
            "[제14조기간의 계산] => [article 14 calculation of periods]\n",
            "[이 법 또는 이 법에 따른 명령에서 정한 기간의 계산은 다음 각 호에 따른다] => [the periods specified by this act or any order issued under this act shall be determined as follows]\n",
            "[기간의 첫날은 계산에 넣지 아니한다 다만 그 기간이 오전 0시부터 시작하는 경우에는 계산에 넣는다] => [the first day of a period shall not be counted provided that the foregoing shall not apply where a period commences at midnight]\n",
            "[기간을 월 또는 연年으로 정한 경우에는 역曆에 따라 계산한다] => [if a period is expressed in months or years it shall be counted according to the calendar]\n",
            "[월 또는 연의 처음부터 기간을 기산起算하지 아니하는 경우에는 마지막의 월 또는 연에서 그 기산일에 해당하는 날의 전날로 기간이 만료한다] => [if the start of a period does not coincide with the beginning of a month or year the period shall expire on the day immediately preceding the date in the last month or year of the period corresponding to the date when the period commenced provided that if a period is counted by months or years but there is no corresponding day in the last month the period shall expire on the last day of that month]\n",
            "[특허에 관한 절차에서 기간의 마지막 날이 공휴일「근로자의날제정에관한법률」에 따른 근로자의 날 및 토요일을 포함한다에 해당하면 기간은 그 다음 날로 만료한다] => [if the last day of a period for performing a patentrelated procedure falls on an official holiday including the workers day designated under the designation of workers day act and saturdays the period shall expire on the working day following such official holiday]\n",
            "[제15조기간의 연장 등] => [article 15 extension etc of periods]\n",
            "[특허청장은 청구에 따라 또는 직권으로 제132조의17에 따른 심판의 청구기간을 30일 이내에서 한 차례만 연장할 수 있다 다만 도서ㆍ벽지 등 교통이 불편한 지역에 있는 자의 경우에는 산업통상자원부령으로 정하는 바에 따라 그 횟수 및 기간을 추가로 연장할 수 있다] => [upon request or ex officio the commissioner of the korean intellectual property office may extend the period for filing a petition for trial under article 13217 only once by not more than 30 days provided that the number of extensions and the period may be additionally increased or extended for the benefit of a person from an area with poor accessibility such as an island or a remote area as prescribed by ordinance of the ministry of trade industry and energy]\n",
            "[특허청장ㆍ특허심판원장ㆍ심판장 또는 제57조제1항에 따른 심사관이하 심사관이라 한다은 이 법에 따라 특허에 관한 절차를 밟을 기간을 정한 경우에는 청구에 따라 그 기간을 단축 또는 연장하거나 직권으로 그 기간을 연장할 수 있다] => [when the commissioner of the korean intellectual property office the president of the korean intellectual property trial and appeal board a presiding judge or an examiner referred to in article 57 1 hereinafter referred to as “examiner” sets a period for initiating a patentrelated procedure under this act heshe may reduce or extend the period upon request or may extend the period ex officio]\n",
            "[이 경우 특허청장 등은 그 절차의 이해관계인의 이익이 부당하게 침해되지 아니하도록 단축 또는 연장 여부를 결정하여야 한다] => [in such cases the commissioner of the korean intellectual property office or other competent authority shall ensure that the interests of relevant parties in the procedure are not unfairly infringed on when determining whether to reduce or extend such period]\n",
            "[심판장은 이 법에 따라 특허에 관한 절차를 밟을 기일을 정한 경우에는 청구에 따라 또는 직권으로 그 기일을 변경할 수 있다] => [where a presiding judge specifies a deadline for initiating a patentrelated procedure under this act heshe may change the deadline upon request or ex officio]\n",
            "[제16조절차의 무효] => [article 16 invalidation of procedure]\n",
            "[특허청장 또는 특허심판원장은 제46조에 따른 보정명령을 받은 자가 지정된 기간에 그 보정을 하지 아니하면 특허에 관한 절차를 무효로 할 수 있다 다만 제82조제2항에 따른 심사청구료를 내지 아니하여 보정명령을 받은 자가 지정된 기간에 그 심사청구료를 내지 아니하면 특허출원서에 첨부한 명세서에 관한 보정을 무효로 할 수 있다] => [when a person ordered to make an amendment under article 46 fails to do so within a specified period the commissioner of the korean intellectual property office or the president of the korean intellectual property trial and appeal board may invalidate the patentrelated procedure provided that if a person ordered to make an amendment for hisher failure to pay petition fees for an examination under article 82 2 fails to pay the petition fees the commissioner of the korean intellectual property office or the president of the korean intellectual property trial and appeal board may invalidate the amendment to the specification accompanying the patent application]\n",
            "[특허청장 또는 특허심판원장은 제1항에 따라 특허에 관한 절차가 무효로 된 경우로서 지정된 기간을 지키지 못한 것이 보정명령을 받은 자가 책임질 수 없는 사유에 의한 것으로 인정될 때에는 그 사유가 소멸한 날부터 2개월 이내에 보정명령을 받은 자의 청구에 따라 그 무효처분을 취소할 수 있다 다만 지정된 기간의 만료일부터 1년이 지났을 때에는 그러하지 아니하다] => [when a patentrelated procedure has been invalidated under paragraph 1 but it is deemed that the failure to make an amendment within the specified period was due to a cause not attributable to the person ordered to do so the commissioner of the korean intellectual property office or the president of the korean intellectual property trial and appeal board may revoke the invalidation within two months after the relevant cause ceases to exist upon receipt of a request from the person ordered to make such amendment provided that the foregoing shall not apply where one year has passed since the expiration of the specified period]\n",
            "[특허청장 또는 특허심판원장은 제1항 본문ㆍ단서에 따른 무효처분 또는 제2항 본문에 따른 무효처분의 취소처분을 할 때에는 그 보정명령을 받은 자에게 처분통지서를 송달하여야 한다] => [when the commissioner of the korean intellectual property office or the president of the korean intellectual property trial and appeal board invalidates a procedure under the main sentence of or the proviso to paragraph 1 or revokes invalidation under the main sentence of paragraph 2 heshe shall give written notice of such measure to the person ordered to make an amendment]\n",
            "[제17조절차의 추후보완] => [article 17 subsequent completion of procedure]\n",
            "[특허에 관한 절차를 밟은 자가 책임질 수 없는 사유로 다음 각 호의 어느 하나에 해당하는 기간을 지키지 못한 경우에는 그 사유가 소멸한 날부터 2개월 이내에 지키지 못한 절차를 추후 보완할 수 있다 다만 그 기간의 만료일부터 1년이 지났을 때에는 그러하지 아니하다 개정 2016229] => [if a person who has initiated a patentrelated procedure fails to complete the procedure within either of the following periods due to a cause not attributable to himher heshe may subsequently complete the procedure within two months after the cause ceases to exist provided that the foregoing shall not apply where one year has passed since the expiration of the specified period amended by act no 14035 feb 29 2016]\n",
            "[제132조의17에 따른 심판의 청구기간] => [a period for filing a petition for trial under article 13217]\n",
            "[제180조제1항에 따른 재심의 청구기간] => [a period for filing a petition for retrial under article 180 1]\n",
            "[제18조절차의 효력 승계] => [article 18 succession of procedural effects]\n",
            "[특허권 또는 특허에 관한 권리에 관하여 밟은 절차의 효력은 그 특허권 또는 특허에 관한 권리의 승계인에게 미친다] => [the effects of a procedure taken with respect to a patent or any other right in a patent shall extend to the successor to the patent or the right in the patent]\n",
            "[제19조절차의 속행] => [article 19 continuation of procedure]\n",
            "[특허청장 또는 심판장은 특허에 관한 절차가 특허청 또는 특허심판원에 계속係屬 중일 때 특허권 또는 특허에 관한 권리가 이전되면 그 특허권 또는 특허에 관한 권리의 승계인에 대하여 그 절차를 속행續行하게 할 수 있다] => [where a patent or any other right in a patent is transferred while a patentrelated procedure is pending in the korean intellectual property office or the korean intellectual property trial and appeal board the commissioner of the korean intellectual property office or the presiding judge may permit the successor to the patent or the right in the patent to continue the patentrelated procedure]\n",
            "[제20조절차의 중단] => [article 20 interruption of procedure]\n",
            "[특허에 관한 절차가 다음 각 호의 어느 하나에 해당하는 경우에는 특허청 또는 특허심판원에 계속 중인 절차는 중단된다 다만 절차를 밟을 것을 위임받은 대리인이 있는 경우에는 그러하지 아니하다] => [in any of the following cases a patentrelated procedure pending in the korean intellectual property office or the korean intellectual property trial and appeal board shall be interrupted provided that the foregoing shall not apply where an agent has been authorized to continue the procedure]\n",
            "[당사자가 사망한 경우] => [if the relevant party dies]\n",
            "[당사자인 법인이 합병에 따라 소멸한 경우] => [if the relevant corporate party dissolves in the course of a merger]\n",
            "[당사자가 절차를 밟을 능력을 상실한 경우] => [if the relevant party loses the capacity to perform the procedure]\n",
            "[당사자의 법정대리인이 사망하거나 그 대리권을 상실한 경우] => [if the party’s legal representative dies or loses the agency authority]\n",
            "[당사자의 신탁에 의한 수탁자의 임무가 끝난 경우] => [if the duty of a trustee of the party terminates]\n",
            "[제11조제1항 각 호 외의 부분 단서에 따른 대표자가 사망하거나 그 자격을 상실한 경우] => [if the representative appointed under the proviso to article 11 1 excluding the subparagraphs dies or becomes disqualified]\n",
            "[파산관재인 등 일정한 자격에 따라 자기 이름으로 남을 위하여 당사자가 된 자가 그 자격을 잃거나 사망한 경우] => [if a bankruptcy trustee or a person who has intervened in the procedure for another person in hisher name with a certain qualification becomes disqualified or dies]\n",
            "[제21조중단된 절차의 수계] => [article 21 resumption of interrupted procedure]\n",
            "[제20조에 따라 특허청 또는 특허심판원에 계속 중인 절차가 중단된 경우에는 다음 각 호의 구분에 따른 자가 그 절차를 수계受繼하여야 한다] => [if a procedure pending in the korean intellectual property office or the korean intellectual property trial and appeal board is interrupted under article 20 any of the following persons shall resume the procedure]\n",
            "[제20조제1호의 경우 사망한 당사자의 상속인ㆍ상속재산관리인 또는 법률에 따라 절차를 속행할 자 다만 상속인은 상속을 포기할 수 있을 때까지 그 절차를 수계하지 못한다] => [in cases falling under subparagraph 1 of article 20 the deceased party’s heir the administrator of inherited estate or a person authorized to resume the procedure under any act provided that no heir may resume the procedure during the period in which heshe can renounce inheritance]\n",
            "[제20조제2호의 경우 합병에 따라 설립되거나 합병 후 존속하는 법인] => [in cases falling under subparagraph 2 of article 20 the corporation established in the course of the merger or the corporation surviving the merger]\n",
            "[제20조제3호 및 제4호의 경우 절차를 밟을 능력을 회복한 당사자 또는 법정대리인이 된 자] => [in cases falling under subparagraph 3 or 4 of article 20 the party whose capacity to perform the procedure is reinstated or a person appointed as the legal representative]\n",
            "[제20조제5호의 경우 새로운 수탁자] => [in cases falling under subparagraph 5 of article 20 a new trustee]\n",
            "[제20조제6호의 경우 새로운 대표자 또는 각 당사자] => [in cases falling under subparagraph 6 of article 20 a new representative or either party]\n",
            "[제20조제7호의 경우 같은 자격을 가진 자] => [in cases falling under subparagraph 7 of article 20 an equally qualified person]\n",
            "[제22조수계신청] => [article 22 applications for resumption]\n",
            "[제20조에 따라 중단된 절차에 관한 수계신청은 제21조 각 호의 어느 하나에 해당하는 자가 할 수 있다] => [an application to resume a procedure interrupted under article 20 can be filed by a person specified in any subparagraph of article 21]\n",
            "[이 경우 그 상대방은 특허청장 또는 제143조에 따른 심판관이하 심판관이라 한다에게 제21조 각 호의 어느 하나에 해당하는 자에 대하여 수계신청할 것을 명하도록 요청할 수 있다] => [in such cases the other party can request the commissioner of the korean intellectual property office or the administrative patent judge referred to in article 143 hereinafter referred to as “administrative patent judge” to order the person specified in any subparagraph of article 21 to file an application to resume]\n",
            "[특허청장 또는 심판장은 제20조에 따라 중단된 절차에 관한 수계신청이 있으면 그 사실을 상대방에게 알려야 한다] => [upon receipt of an application to resume an interrupted procedure under article 20 the commissioner of the korean intellectual property office or the presiding judge shall notify the other party thereof]\n"
          ],
          "name": "stdout"
        }
      ]
    },
    {
      "cell_type": "markdown",
      "metadata": {
        "id": "_hhjJjKWvr1n"
      },
      "source": [
        "## 2) 데이터 분리"
      ]
    },
    {
      "cell_type": "code",
      "metadata": {
        "id": "BCMj5izRvwAP",
        "colab": {
          "base_uri": "https://localhost:8080/"
        },
        "outputId": "29c9bcc2-c1e9-44c1-ed61-ba500afe2637"
      },
      "source": [
        "from pickle import load\n",
        "from pickle import dump\n",
        "from numpy.random import rand\n",
        "from numpy.random import shuffle\n",
        "\n",
        "# load a clean dataset\n",
        "def load_clean_sentences(filename):\n",
        "\treturn load(open(filename, 'rb'))\n",
        "\n",
        "# save a list of clean sentences to file\n",
        "def save_clean_data(sentences, filename):\n",
        "\tdump(sentences, open(filename, 'wb'))\n",
        "\tprint('Saved: %s' % filename)\n",
        "\n",
        "# load dataset\n",
        "raw_dataset = load_clean_sentences('korean-english.pkl')\n",
        "\n",
        "# reduce dataset size\n",
        "n_sentences = 3000\n",
        "dataset = raw_dataset[:n_sentences, :]\n",
        "\n",
        "# random shuffle\n",
        "shuffle(dataset)\n",
        "# split into train/test\n",
        "train, test = dataset[:2000], dataset[2000:]\n",
        "\n",
        "# save\n",
        "save_clean_data(dataset, 'korean-english-both.pkl')\n",
        "save_clean_data(train, 'korean-english-train.pkl')\n",
        "save_clean_data(test, 'korean-english-test.pkl')"
      ],
      "execution_count": null,
      "outputs": [
        {
          "output_type": "stream",
          "text": [
            "Saved: korean-english-both.pkl\n",
            "Saved: korean-english-train.pkl\n",
            "Saved: korean-english-test.pkl\n"
          ],
          "name": "stdout"
        }
      ]
    },
    {
      "cell_type": "markdown",
      "metadata": {
        "id": "96wZbR0cooi2"
      },
      "source": [
        "## 3) NMT 모델 생성"
      ]
    },
    {
      "cell_type": "code",
      "metadata": {
        "id": "rM5DT_0NnKdW",
        "colab": {
          "base_uri": "https://localhost:8080/"
        },
        "outputId": "266e048b-43a4-40cd-b7d2-566bdbf82c13"
      },
      "source": [
        "from pickle import load\n",
        "from numpy import array\n",
        "from keras.preprocessing.text import Tokenizer\n",
        "from keras.preprocessing.sequence import pad_sequences\n",
        "from keras.utils import to_categorical\n",
        "from keras.utils.vis_utils import plot_model\n",
        "from keras.models import Sequential\n",
        "from keras.layers import LSTM\n",
        "from keras.layers import Dense\n",
        "from keras.layers import Embedding\n",
        "from keras.layers import RepeatVector\t# BPE와 비슷\n",
        "from keras.layers import TimeDistributed\n",
        "from keras.callbacks import ModelCheckpoint\n",
        "\n",
        "# load a clean dataset\n",
        "def load_clean_sentences(filename):\n",
        "\treturn load(open(filename, 'rb'))\n",
        "\n",
        "# fit a tokenizer\n",
        "def create_tokenizer(lines):\n",
        "\ttokenizer = Tokenizer()\n",
        "\ttokenizer.fit_on_texts(lines)\n",
        "\treturn tokenizer\n",
        "\n",
        "# max sentence length\n",
        "def max_length(lines):\n",
        "\treturn max(len(line.split()) for line in lines)\n",
        "\n",
        "# encode and pad sequences\n",
        "def encode_sequences(tokenizer, length, lines):\n",
        "\t# integer encode sequences\n",
        "\tX = tokenizer.texts_to_sequences(lines)\n",
        "\t# pad sequences with 0 values\n",
        "\tX = pad_sequences(X, maxlen=length, padding='post')\n",
        "\treturn X\n",
        "\n",
        "# one hot encode target sequence\n",
        "def encode_output(sequences, vocab_size):\n",
        "\tylist = list()\n",
        "\tfor sequence in sequences:\n",
        "\t\tencoded = to_categorical(sequence, num_classes=vocab_size)\n",
        "\t\tylist.append(encoded)\n",
        "\ty = array(ylist)\n",
        "\ty = y.reshape(sequences.shape[0], sequences.shape[1], vocab_size)\n",
        "\treturn y\n",
        "\n",
        "# define NMT model\n",
        "def define_model(src_vocab, tar_vocab, src_timesteps, tar_timesteps, n_units):\n",
        "\tmodel = Sequential()\n",
        "\tmodel.add(Embedding(src_vocab, n_units, input_length=src_timesteps, mask_zero=True))\t# Encoder에 해당\n",
        "\tmodel.add(LSTM(n_units))\n",
        "\tmodel.add(RepeatVector(tar_timesteps))\t# BPE에 해당\n",
        "\tmodel.add(LSTM(n_units, return_sequences=True))\n",
        "\tmodel.add(TimeDistributed(Dense(tar_vocab, activation='softmax')))\t# Decoder에 해당\n",
        "\treturn model\n",
        "\n",
        "# load datasets\n",
        "dataset = load_clean_sentences('korean-english-both.pkl')\n",
        "train = load_clean_sentences('korean-english-train.pkl')\n",
        "test = load_clean_sentences('korean-english-test.pkl')\n",
        "\n",
        "# prepare korean tokenizer\n",
        "eng_tokenizer = create_tokenizer(dataset[:, 0])\n",
        "eng_vocab_size = len(eng_tokenizer.word_index) + 1\n",
        "eng_length = max_length(dataset[:, 0])\n",
        "print('Korean Vocabulary Size: %d' % eng_vocab_size)\n",
        "print('Korean Max Length: %d' % (eng_length))\n",
        "# prepare english tokenizer\n",
        "ger_tokenizer = create_tokenizer(dataset[:, 1])\n",
        "ger_vocab_size = len(ger_tokenizer.word_index) + 1\n",
        "ger_length = max_length(dataset[:, 1])\n",
        "print('English Vocabulary Size: %d' % ger_vocab_size)\n",
        "print('English Max Length: %d' % (ger_length))\n",
        "\n",
        "# prepare training data\n",
        "trainX = encode_sequences(ger_tokenizer, ger_length, train[:, 1])\n",
        "trainY = encode_sequences(eng_tokenizer, eng_length, train[:, 0])\n",
        "trainY = encode_output(trainY, eng_vocab_size)\n",
        "# prepare validation data\n",
        "testX = encode_sequences(ger_tokenizer, ger_length, test[:, 1])\n",
        "testY = encode_sequences(eng_tokenizer, eng_length, test[:, 0])\n",
        "testY = encode_output(testY, eng_vocab_size)\n",
        "\n",
        "# define model\n",
        "model = define_model(ger_vocab_size, eng_vocab_size, ger_length, eng_length, 256)\n",
        "model.compile(optimizer='adam', loss='categorical_crossentropy')\n",
        "# summarize defined model\n",
        "print(model.summary())\n",
        "plot_model(model, to_file='model.png', show_shapes=True)\n",
        "# fit model\n",
        "filename = 'model.h5'\n",
        "checkpoint = ModelCheckpoint(filename, monitor='val_loss', verbose=1, save_best_only=True, mode='min')\n",
        "model.fit(trainX, trainY, epochs=30, batch_size=64, validation_data=(testX, testY), callbacks=[checkpoint], verbose=2)"
      ],
      "execution_count": null,
      "outputs": [
        {
          "output_type": "stream",
          "text": [
            "Korean Vocabulary Size: 8695\n",
            "Korean Max Length: 72\n",
            "English Vocabulary Size: 3662\n",
            "English Max Length: 151\n",
            "Model: \"sequential\"\n",
            "_________________________________________________________________\n",
            "Layer (type)                 Output Shape              Param #   \n",
            "=================================================================\n",
            "embedding (Embedding)        (None, 151, 256)          937472    \n",
            "_________________________________________________________________\n",
            "lstm (LSTM)                  (None, 256)               525312    \n",
            "_________________________________________________________________\n",
            "repeat_vector (RepeatVector) (None, 72, 256)           0         \n",
            "_________________________________________________________________\n",
            "lstm_1 (LSTM)                (None, 72, 256)           525312    \n",
            "_________________________________________________________________\n",
            "time_distributed (TimeDistri (None, 72, 8695)          2234615   \n",
            "=================================================================\n",
            "Total params: 4,222,711\n",
            "Trainable params: 4,222,711\n",
            "Non-trainable params: 0\n",
            "_________________________________________________________________\n",
            "None\n",
            "Epoch 1/30\n",
            "\n",
            "Epoch 00001: val_loss improved from inf to 2.01267, saving model to model.h5\n",
            "32/32 - 6s - loss: 4.3972 - val_loss: 2.0127\n",
            "Epoch 2/30\n",
            "\n",
            "Epoch 00002: val_loss improved from 2.01267 to 1.75086, saving model to model.h5\n",
            "32/32 - 5s - loss: 1.8989 - val_loss: 1.7509\n",
            "Epoch 3/30\n",
            "\n",
            "Epoch 00003: val_loss improved from 1.75086 to 1.69580, saving model to model.h5\n",
            "32/32 - 5s - loss: 1.7026 - val_loss: 1.6958\n",
            "Epoch 4/30\n",
            "\n",
            "Epoch 00004: val_loss improved from 1.69580 to 1.64098, saving model to model.h5\n",
            "32/32 - 5s - loss: 1.6532 - val_loss: 1.6410\n",
            "Epoch 5/30\n",
            "\n",
            "Epoch 00005: val_loss improved from 1.64098 to 1.59034, saving model to model.h5\n",
            "32/32 - 5s - loss: 1.5823 - val_loss: 1.5903\n",
            "Epoch 6/30\n",
            "\n",
            "Epoch 00006: val_loss improved from 1.59034 to 1.57750, saving model to model.h5\n",
            "32/32 - 5s - loss: 1.5449 - val_loss: 1.5775\n",
            "Epoch 7/30\n",
            "\n",
            "Epoch 00007: val_loss improved from 1.57750 to 1.56385, saving model to model.h5\n",
            "32/32 - 5s - loss: 1.5389 - val_loss: 1.5639\n",
            "Epoch 8/30\n",
            "\n",
            "Epoch 00008: val_loss improved from 1.56385 to 1.55815, saving model to model.h5\n",
            "32/32 - 5s - loss: 1.5385 - val_loss: 1.5582\n",
            "Epoch 9/30\n",
            "\n",
            "Epoch 00009: val_loss did not improve from 1.55815\n",
            "32/32 - 5s - loss: 1.5225 - val_loss: 1.5633\n",
            "Epoch 10/30\n",
            "\n",
            "Epoch 00010: val_loss did not improve from 1.55815\n",
            "32/32 - 5s - loss: 1.6940 - val_loss: 1.6148\n",
            "Epoch 11/30\n",
            "\n",
            "Epoch 00011: val_loss improved from 1.55815 to 1.54321, saving model to model.h5\n",
            "32/32 - 5s - loss: 1.5667 - val_loss: 1.5432\n",
            "Epoch 12/30\n",
            "\n",
            "Epoch 00012: val_loss improved from 1.54321 to 1.53914, saving model to model.h5\n",
            "32/32 - 5s - loss: 1.4451 - val_loss: 1.5391\n",
            "Epoch 13/30\n",
            "\n",
            "Epoch 00013: val_loss did not improve from 1.53914\n",
            "32/32 - 5s - loss: 1.4308 - val_loss: 1.5412\n",
            "Epoch 14/30\n",
            "\n",
            "Epoch 00014: val_loss did not improve from 1.53914\n",
            "32/32 - 5s - loss: 1.4277 - val_loss: 1.5419\n",
            "Epoch 15/30\n",
            "\n",
            "Epoch 00015: val_loss did not improve from 1.53914\n",
            "32/32 - 5s - loss: 1.4077 - val_loss: 1.5470\n",
            "Epoch 16/30\n",
            "\n",
            "Epoch 00016: val_loss did not improve from 1.53914\n",
            "32/32 - 5s - loss: 1.4040 - val_loss: 1.5476\n",
            "Epoch 17/30\n",
            "\n",
            "Epoch 00017: val_loss did not improve from 1.53914\n",
            "32/32 - 5s - loss: 1.3952 - val_loss: 1.5547\n",
            "Epoch 18/30\n",
            "\n",
            "Epoch 00018: val_loss did not improve from 1.53914\n",
            "32/32 - 5s - loss: 1.3843 - val_loss: 1.5478\n",
            "Epoch 19/30\n",
            "\n",
            "Epoch 00019: val_loss did not improve from 1.53914\n",
            "32/32 - 5s - loss: 1.3773 - val_loss: 1.5504\n",
            "Epoch 20/30\n",
            "\n",
            "Epoch 00020: val_loss did not improve from 1.53914\n",
            "32/32 - 5s - loss: 1.3702 - val_loss: 1.5523\n",
            "Epoch 21/30\n",
            "\n",
            "Epoch 00021: val_loss did not improve from 1.53914\n",
            "32/32 - 5s - loss: 1.3634 - val_loss: 1.5694\n",
            "Epoch 22/30\n",
            "\n",
            "Epoch 00022: val_loss did not improve from 1.53914\n",
            "32/32 - 5s - loss: 1.3563 - val_loss: 1.5589\n",
            "Epoch 23/30\n",
            "\n",
            "Epoch 00023: val_loss did not improve from 1.53914\n",
            "32/32 - 5s - loss: 1.3490 - val_loss: 1.5588\n",
            "Epoch 24/30\n",
            "\n",
            "Epoch 00024: val_loss did not improve from 1.53914\n",
            "32/32 - 5s - loss: 1.3413 - val_loss: 1.5693\n",
            "Epoch 25/30\n",
            "\n",
            "Epoch 00025: val_loss did not improve from 1.53914\n",
            "32/32 - 5s - loss: 1.3488 - val_loss: 1.5732\n",
            "Epoch 26/30\n",
            "\n",
            "Epoch 00026: val_loss did not improve from 1.53914\n",
            "32/32 - 5s - loss: 1.3319 - val_loss: 1.5780\n",
            "Epoch 27/30\n",
            "\n",
            "Epoch 00027: val_loss did not improve from 1.53914\n",
            "32/32 - 5s - loss: 1.3301 - val_loss: 1.5729\n",
            "Epoch 28/30\n",
            "\n",
            "Epoch 00028: val_loss did not improve from 1.53914\n",
            "32/32 - 5s - loss: 1.3218 - val_loss: 1.5784\n",
            "Epoch 29/30\n",
            "\n",
            "Epoch 00029: val_loss did not improve from 1.53914\n",
            "32/32 - 5s - loss: 1.3195 - val_loss: 1.5914\n",
            "Epoch 30/30\n",
            "\n",
            "Epoch 00030: val_loss did not improve from 1.53914\n",
            "32/32 - 5s - loss: 1.3172 - val_loss: 1.5809\n"
          ],
          "name": "stdout"
        },
        {
          "output_type": "execute_result",
          "data": {
            "text/plain": [
              "<tensorflow.python.keras.callbacks.History at 0x7f86704725c0>"
            ]
          },
          "metadata": {
            "tags": []
          },
          "execution_count": 4
        }
      ]
    },
    {
      "cell_type": "markdown",
      "metadata": {
        "id": "oA7b7pnuouur"
      },
      "source": [
        "## 2) NMT 모델 평가 및 예측"
      ]
    },
    {
      "cell_type": "code",
      "metadata": {
        "id": "lAXRwFs57gsU",
        "colab": {
          "base_uri": "https://localhost:8080/"
        },
        "outputId": "ed615e9d-389a-4051-c496-81ea097f8d11"
      },
      "source": [
        "from pickle import load\n",
        "from numpy import array\n",
        "from numpy import argmax\n",
        "from keras.preprocessing.text import Tokenizer\n",
        "from keras.preprocessing.sequence import pad_sequences\n",
        "from keras.models import load_model\n",
        "from nltk.translate.bleu_score import corpus_bleu\t # BLEU 계산\n",
        "\n",
        "# load a clean dataset\n",
        "def load_clean_sentences(filename):\n",
        "\treturn load(open(filename, 'rb'))\n",
        "\n",
        "# fit a tokenizer\n",
        "def create_tokenizer(lines):\n",
        "\ttokenizer = Tokenizer()\n",
        "\ttokenizer.fit_on_texts(lines)\n",
        "\treturn tokenizer\n",
        "\n",
        "# max sentence length\n",
        "def max_length(lines):\n",
        "\treturn max(len(line.split()) for line in lines)\n",
        "\n",
        "# encode and pad sequences\n",
        "def encode_sequences(tokenizer, length, lines):\n",
        "\t# integer encode sequences\n",
        "\tX = tokenizer.texts_to_sequences(lines)\n",
        "\t# pad sequences with 0 values\n",
        "\tX = pad_sequences(X, maxlen=length, padding='post')\n",
        "\treturn X\n",
        "\n",
        "# map an integer to a word\n",
        "def word_for_id(integer, tokenizer):\n",
        "\tfor word, index in tokenizer.word_index.items():\n",
        "\t\tif index == integer:\n",
        "\t\t\treturn word\n",
        "\treturn None\n",
        "\n",
        "# generate target given source sequence\n",
        "def predict_sequence(model, tokenizer, source):\n",
        "\tprediction = model.predict(source, verbose=0)[0]\n",
        "\tintegers = [argmax(vector) for vector in prediction]\n",
        "\ttarget = list()\n",
        "\tfor i in integers:\n",
        "\t\tword = word_for_id(i, tokenizer)\n",
        "\t\tif word is None:\n",
        "\t\t\tbreak\n",
        "\t\ttarget.append(word)\n",
        "\treturn ' '.join(target)\n",
        "\n",
        "# evaluate the skill of the model\n",
        "def evaluate_model(model, tokenizer, sources, raw_dataset):\n",
        "\tactual, predicted = list(), list()\n",
        "\tfor i, source in enumerate(sources):\n",
        "\t\t# translate encoded source text\n",
        "\t\tsource = source.reshape((1, source.shape[0]))\n",
        "\t\ttranslation = predict_sequence(model, ger_tokenizer, source)\n",
        "\t\t#print(raw_dataset[i])\n",
        "\t\traw_src, raw_target = raw_dataset[i]\n",
        "\t\tif i < 10:\n",
        "\t\t\tprint('src=[%s], target=[%s], predicted=[%s]' % (raw_src, raw_target, translation))\n",
        "\t\tactual.append([raw_target.split()])\n",
        "\t\tpredicted.append(translation.split())\n",
        "\t# calculate BLEU score\n",
        "\tprint('BLEU-1: %f' % corpus_bleu(actual, predicted, weights=(1.0, 0, 0, 0)))\n",
        "\tprint('BLEU-2: %f' % corpus_bleu(actual, predicted, weights=(0.5, 0.5, 0, 0)))\n",
        "\tprint('BLEU-3: %f' % corpus_bleu(actual, predicted, weights=(0.3, 0.3, 0.3, 0)))\n",
        "\tprint('BLEU-4: %f' % corpus_bleu(actual, predicted, weights=(0.25, 0.25, 0.25, 0.25)))\n",
        "\n",
        "# load datasets\n",
        "dataset = load_clean_sentences('korean-english-both.pkl')\n",
        "train = load_clean_sentences('korean-english-train.pkl')\n",
        "test = load_clean_sentences('korean-english-test.pkl')\n",
        "# prepare english tokenizer\n",
        "eng_tokenizer = create_tokenizer(dataset[:, 0])\n",
        "eng_vocab_size = len(eng_tokenizer.word_index) + 1\n",
        "eng_length = max_length(dataset[:, 0])\n",
        "# prepare german tokenizer\n",
        "ger_tokenizer = create_tokenizer(dataset[:, 1])\n",
        "ger_vocab_size = len(ger_tokenizer.word_index) + 1\n",
        "ger_length = max_length(dataset[:, 1])\n",
        "# prepare data\n",
        "trainX = encode_sequences(ger_tokenizer, ger_length, train[:, 1])\n",
        "testX = encode_sequences(ger_tokenizer, ger_length, test[:, 1])\n",
        "\n",
        "# load model\n",
        "model = load_model('model.h5')\n",
        "# test on some training sequences\n",
        "print('train')\n",
        "evaluate_model(model, eng_tokenizer, trainX, train)\n",
        "# test on some test sequences\n",
        "print('test')\n",
        "evaluate_model(model, eng_tokenizer, testX, test)"
      ],
      "execution_count": null,
      "outputs": [
        {
          "output_type": "stream",
          "text": [
            "train\n",
            "src=[재정을 청구하는 자가 제출하여야 하는 서류 그 밖에 재정에 관하여 필요한 사항은 대통령령으로 정한다], target=[documents to be submitted by petitioners for adjudication and other matters necessary for adjudication shall be prescribed by presidential decree], predicted=[and and and and and and]\n",
            "src=[제2항에 따라 보정 후의 청구범위에 대한 국어번역문을 제출하는 경우에는 제204조제1항 및 제2항을 적용하지 아니한다], target=[article 204 1 and 2 shall not apply where a korean translation of the amended claims is submitted under paragraph 2], predicted=[and and and and and and]\n",
            "src=[제2항에도 불구하고 산업통상자원부령으로 정하는 보완수수료를 납부한 경우에는 다음 각 호의 어느 하나에 해당하는 기간에 제1항제1호를 적용받으려는 취지를 적은 서류 또는 이를 증명할 수 있는 서류를 제출할 수 있다], target=[notwithstanding paragraph 2 if the amendment fee prescribed by ordinance of the ministry of trade industry and energy has been paid documents stating the willingness to become entitled to the application of paragraph 1 1 or documents evidencing such willingness may be submitted during the period set in either of the following subparagraphs], predicted=[and and and and and and and and and and and the the]\n",
            "src=[영리목적의 광고성 정보를 전송할 목적으로 전화번호 또는 전자우편주소를 자동으로 등록하는 조치], target=[measures to automatically register telephone numbers or email addresses for the purpose of transmitting advertising information for profit], predicted=[and and and and and]\n",
            "src=[개인정보 관련 해외의 입법 및 정책 동향], target=[overseas legislation and policy developments related with personal information], predicted=[and and and]\n",
            "src=[특허청장은 특허여부결정이 있는 경우에는 그 결정의 등본을 특허출원인에게 송달하여야 한다], target=[when a decision on patentability is made the commissioner of the korean intellectual property office shall serve a certified copy of the decision on the patent applicant], predicted=[and and and and]\n",
            "src=[연장등록출원인의 성명 및 주소법인인 경우에는 그 명칭 및 영업소의 소재지], target=[the name and domicile of the applicant for registration of the extended term if the applicant is a corporation its name and place of business], predicted=[and and and and and]\n",
            "src=[이 법은 과학기술혁신이 인간의 존엄을 바탕으로 자연환경 및 사회윤리적 가치와 조화를 이루고 경제ㆍ사회 발전의 원동력이 되도록 하며 과학기술인의 자율성과 창의성이 존중받도록 하고 자연과학과 인문ㆍ사회과학이 서로 균형적으로 연계하여 발전하도록 함을 기본이념으로 한다], target=[the basic principles of this act are to harmonize scientific and technological innovation with the natural environment and social ethical values based upon human dignity to make sure that such innovation becomes a driving force for the development of economy and society that the autonomy and creativity of the scientists and engineers are respected and that the natural science humanities and social science evolve in a balanced interconnected manner], predicted=[and and and and and and and and and and and and the the]\n",
            "src=[제12조「민사소송법」의 준용], target=[article 12 application mutatis mutandis of the civil procedure act], predicted=[and]\n",
            "src=[발명의 설명에 의하여 뒷받침될 것], target=[the invention shall be supported by the description], predicted=[and and]\n"
          ],
          "name": "stdout"
        },
        {
          "output_type": "stream",
          "text": [
            "/usr/local/lib/python3.6/dist-packages/nltk/translate/bleu_score.py:490: UserWarning: \n",
            "Corpus/Sentence contains 0 counts of 3-gram overlaps.\n",
            "BLEU scores might be undesirable; use SmoothingFunction().\n",
            "  warnings.warn(_msg)\n"
          ],
          "name": "stderr"
        },
        {
          "output_type": "stream",
          "text": [
            "BLEU-1: 0.008424\n",
            "BLEU-2: 0.001295\n",
            "BLEU-3: 0.004924\n",
            "BLEU-4: 0.006875\n",
            "test\n",
            "src=[제23조과학기술인력의 양성ㆍ활용], target=[article 23 training and utilization of human resources in science and technology], predicted=[and and and]\n",
            "src=[선출원이 「실용신안법」 제35조제4항에 따라 취하한 것으로 보는 국제실용신안등록출원인 경우], target=[where the earlier application is an international application for registration of a utility model deemed voluntarily withdrawn under article 35 4 of the utility model act], predicted=[and and and and]\n",
            "src=[그 밖에 정보통신망을 운영하는 자로서 대통령령으로 정하는 자], target=[other persons specified by presidential decree among those who operate an information and communications network], predicted=[and and and and and]\n",
            "src=[제35조제3항·제4항 제36조제2항·제4항 또는 제37조제3항을 위반하여 정보주체에게 알려야 할 사항을 알리지 아니한 자], target=[a person who fails to notify a data subject of necessary information in violation of article 35 3 and 4 36 2 and 4 or 37 3], predicted=[and and and and and]\n",
            "src=[제31조개인정보 보호책임자의 지정], target=[article 31 designation of privacy officers], predicted=[and]\n",
            "src=[제138조통상실시권 허락의 심판], target=[article 138 trial for grant of nonexclusive licenses], predicted=[and]\n",
            "src=[특허청장은 재정을 받은 자가 다음 각 호의 어느 하나에 해당하는 경우에는 이해관계인의 신청에 따라 또는 직권으로 그 재정을 취소할 수 있다 다만 제2호의 경우에는 재정을 받은 통상실시권자의 정당한 이익이 보호될 수 있는 경우로 한정한다], target=[in any of the following cases the commissioner of the korean intellectual property office may revoke adjudication upon request from an interested party or ex officio provided that subparagraph 2 shall only apply where the rightful interests of the nonexclusive licensee for whom the adjudication has been made can be protected], predicted=[and and and and and and and and and and and and the the]\n",
            "src=[제48조의3침해사고의 신고 등], target=[article 483 report etc on intrusion cases], predicted=[and]\n",
            "src=[정보통신망을 통하여 일반에게 공개를 목적으로 제공된 정보로 사생활 침해나 명예훼손 등 타인의 권리가 침해된 경우 그 침해를 받은 자는 해당 정보를 처리한 정보통신서비스 제공자에게 침해사실을 소명하여 그 정보의 삭제 또는 반박내용의 게재이하 삭제등이라 한다를 요청할 수 있다], target=[where information provided through an information and communications network purposely to be made public intrudes on other persons privacy defames other persons or violates other persons right otherwise the victim of such violation may request the provider of information and communications services who managed the information to delete the information or publish a rebuttable statement hereinafter referred to as deletion or rebuttal presenting explanatory materials supporting the alleged violation], predicted=[and and and and and and and and and and and and and and the the the]\n",
            "src=[개인정보와 관련한 분쟁의 조정을 원하는 자는 분쟁조정위원회에 분쟁조정을 신청할 수 있다], target=[any person who wants a dispute over personal information mediated may apply for mediation of the dispute to the dispute mediation committee], predicted=[and and and and and]\n",
            "BLEU-1: 0.008245\n",
            "BLEU-2: 0.001318\n",
            "BLEU-3: 0.004948\n",
            "BLEU-4: 0.006887\n"
          ],
          "name": "stdout"
        }
      ]
    },
    {
      "cell_type": "code",
      "metadata": {
        "id": "d-KxzPt40qVF",
        "colab": {
          "base_uri": "https://localhost:8080/",
          "height": 34
        },
        "outputId": "dec97571-0249-4593-ed4a-77f21455bbd3"
      },
      "source": [
        "%cd /content"
      ],
      "execution_count": null,
      "outputs": [
        {
          "output_type": "stream",
          "text": [
            "/content\n"
          ],
          "name": "stdout"
        }
      ]
    },
    {
      "cell_type": "code",
      "metadata": {
        "id": "-xNZXHEL1qsC"
      },
      "source": [
        "%cd /content/drive/My Drive/mydata\n",
        "\n",
        "!cp /content/english-german.pkl ."
      ],
      "execution_count": null,
      "outputs": []
    },
    {
      "cell_type": "code",
      "metadata": {
        "id": "dkSIpV5CVjab",
        "colab": {
          "base_uri": "https://localhost:8080/",
          "height": 35
        },
        "outputId": "071dfec0-1d6f-4dc0-92c4-45c718343be4"
      },
      "source": [
        "drive.flush_and_unmount "
      ],
      "execution_count": null,
      "outputs": [
        {
          "output_type": "execute_result",
          "data": {
            "text/plain": [
              "<function google.colab.drive.flush_and_unmount>"
            ]
          },
          "metadata": {
            "tags": []
          },
          "execution_count": 5
        }
      ]
    }
  ]
}