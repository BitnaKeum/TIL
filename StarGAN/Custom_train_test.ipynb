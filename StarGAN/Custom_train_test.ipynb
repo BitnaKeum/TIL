{
  "nbformat": 4,
  "nbformat_minor": 0,
  "metadata": {
    "colab": {
      "name": "custom.ipynb",
      "provenance": [],
      "collapsed_sections": [],
      "authorship_tag": "ABX9TyMSSMBo4PkEdCaIOGgIiRnC"
    },
    "kernelspec": {
      "name": "python3",
      "display_name": "Python 3"
    }
  },
  "cells": [
    {
      "cell_type": "code",
      "metadata": {
        "id": "v3rYRa-8mlJf"
      },
      "source": [
        "# https://beausty23.tistory.com/114"
      ],
      "execution_count": null,
      "outputs": []
    },
    {
      "cell_type": "code",
      "metadata": {
        "id": "r9ougjB4vx6o"
      },
      "source": [
        "!apt-get install -y -qq software-properties-common python-software-properties module-init-tools\r\n",
        "!add-apt-repository -y ppa:alessandro-strada/ppa 2>&1 > /dev/null\r\n",
        "!apt-get update -qq 2>&1 > /dev/null\r\n",
        "!apt-get -y install -qq google-drive-ocamlfuse fuse\r\n",
        "\r\n",
        "from google.colab import auth\r\n",
        "auth.authenticate_user()\r\n",
        "\r\n",
        "from oauth2client.client import GoogleCredentials\r\n",
        "creds = GoogleCredentials.get_application_default()\r\n",
        "\r\n",
        "import getpass\r\n",
        "!google-drive-ocamlfuse -headless -id={creds.client_id} -secret={creds.client_secret} < /dev/null 2>&1 | grep URL\r\n",
        "\r\n",
        "vcode = getpass.getpass()\r\n",
        "!echo {vcode} | google-drive-ocamlfuse -headless -id={creds.client_id} -secret={creds.client_secret}"
      ],
      "execution_count": null,
      "outputs": []
    },
    {
      "cell_type": "code",
      "metadata": {
        "id": "U1iC08_av1NC"
      },
      "source": [
        "cd /"
      ],
      "execution_count": null,
      "outputs": []
    },
    {
      "cell_type": "code",
      "metadata": {
        "id": "mc_D2t5Nv2FD"
      },
      "source": [
        "!mkdir -p Gdrive\r\n",
        "!google-drive-ocamlfuse Gdrive\r\n",
        "!ls Gdrive"
      ],
      "execution_count": null,
      "outputs": []
    },
    {
      "cell_type": "code",
      "metadata": {
        "id": "whngwj0rv2b8"
      },
      "source": [
        "cd /Gdrive/StarGAN"
      ],
      "execution_count": null,
      "outputs": []
    },
    {
      "cell_type": "code",
      "metadata": {
        "id": "EhYYKrzOwAaf"
      },
      "source": [
        "# Train StarGAN on custom datasets",
        "!python main.py --mode train --dataset RaFD --rafd_crop_size 256 --image_size 128 --c_dim 5 \\\r\n",
        "                --num_iters 50000 \\\r\n",
        "                --rafd_image_dir data/custom/train \\\r\n",
        "                --sample_dir stargan_custom/samples --log_dir stargan_custom/logs \\\r\n",
        "                --model_save_dir stargan_custom/models --result_dir stargan_custom/results'"
      ],
      "execution_count": null,
      "outputs": []
    },
    {
      "cell_type": "code",
      "metadata": {
        "id": "EhYYKrzOwAad"
      },
      "source": [
        "# Test StarGAN on custom datasets",
        "!python main.py --mode test --dataset RaFD --image_size 12 \\\r\n",
        "                --c_dim 5 --rafd_image_dir data/custom/test \\\r\n",
        "                --rafd_image_dir data/custom/train \\\r\n",
        "                --sample_dir stargan_custom/samples --log_dir stargan_custom/logs \\\r\n",
        "                --model_save_dir stargan_custom/models --result_dir stargan_custom/results'"
      ],
      "execution_count": null,
      "outputs": []
    }
  ]
}
