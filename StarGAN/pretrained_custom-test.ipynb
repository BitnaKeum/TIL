{
  "nbformat": 4,
  "nbformat_minor": 0,
  "metadata": {
    "colab": {
      "name": "Untitled0.ipynb",
      "provenance": [],
      "collapsed_sections": [],
      "authorship_tag": "ABX9TyMSSMBo4PkEdCaIOGgIiRnC"
    },
    "kernelspec": {
      "name": "python3",
      "display_name": "Python 3"
    }
  },
  "cells": [
    {
      "cell_type": "code",
      "metadata": {
        "id": "v3rYRa-8mlJf"
      },
      "source": [
        "# https://beausty23.tistory.com/112"
      ],
      "execution_count": null,
      "outputs": []
    },
    {
      "cell_type": "code",
      "metadata": {
        "id": "r9ougjB4vx6o"
      },
      "source": [
        "!apt-get install -y -qq software-properties-common python-software-properties module-init-tools\r\n",
        "!add-apt-repository -y ppa:alessandro-strada/ppa 2>&1 > /dev/null\r\n",
        "!apt-get update -qq 2>&1 > /dev/null\r\n",
        "!apt-get -y install -qq google-drive-ocamlfuse fuse\r\n",
        "\r\n",
        "from google.colab import auth\r\n",
        "auth.authenticate_user()\r\n",
        "\r\n",
        "from oauth2client.client import GoogleCredentials\r\n",
        "creds = GoogleCredentials.get_application_default()\r\n",
        "\r\n",
        "import getpass\r\n",
        "!google-drive-ocamlfuse -headless -id={creds.client_id} -secret={creds.client_secret} < /dev/null 2>&1 | grep URL\r\n",
        "\r\n",
        "vcode = getpass.getpass()\r\n",
        "!echo {vcode} | google-drive-ocamlfuse -headless -id={creds.client_id} -secret={creds.client_secret}"
      ],
      "execution_count": null,
      "outputs": []
    },
    {
      "cell_type": "code",
      "metadata": {
        "id": "U1iC08_av1NC"
      },
      "source": [
        "cd /"
      ],
      "execution_count": null,
      "outputs": []
    },
    {
      "cell_type": "code",
      "metadata": {
        "id": "mc_D2t5Nv2FD"
      },
      "source": [
        "!mkdir -p Gdrive\r\n",
        "!google-drive-ocamlfuse Gdrive\r\n",
        "!ls Gdrive"
      ],
      "execution_count": null,
      "outputs": []
    },
    {
      "cell_type": "code",
      "metadata": {
        "id": "whngwj0rv2b8"
      },
      "source": [
        "cd /Gdrive"
      ],
      "execution_count": null,
      "outputs": []
    },
    {
      "cell_type": "code",
      "metadata": {
        "id": "QgYGt17ov3KF"
      },
      "source": [
        "!git clone https://github.com/yunjey/StarGAN.git"
      ],
      "execution_count": null,
      "outputs": []
    },
    {
      "cell_type": "code",
      "metadata": {
        "id": "d8uXamzUv5NM"
      },
      "source": [
        "cd StarGAN/"
      ],
      "execution_count": null,
      "outputs": []
    },
    {
      "cell_type": "code",
      "metadata": {
        "id": "sL5Ui0HAv6Gf"
      },
      "source": [
        "!bash download.sh celeba"
      ],
      "execution_count": null,
      "outputs": []
    },
    {
      "cell_type": "code",
      "metadata": {
        "id": "HhnAvuq3v9jN"
      },
      "source": [
        "!bash download.sh pretrained-celeba-128x128"
      ],
      "execution_count": null,
      "outputs": []
    },
    {
      "cell_type": "markdown",
      "metadata": {
        "id": "zNSuGNEXv887"
      },
      "source": [
        "StarGAN/logger.py 의 9번째 줄 'FileWriter' -> 'create_file_writer'로 수정"
      ]
    },
    {
      "cell_type": "code",
      "metadata": {
        "id": "EhYYKrzOwAaf"
      },
      "source": [
        "# Custom 데이터셋으로 test\r\n",
        "!python main.py --mode test --dataset CelebA --image_size 128 --c_dim 5 \\\r\n",
        "                --selected_attrs Black_Hair Blond_Hair Brown_Hair Male Young \\\r\n",
        "                --celeba_image_dir data/custom/images \\\r\n",
        "                --attr_path data/list_attr_celeba_custom.txt \\\r\n",
        "                --model_save_dir='stargan_celeba_128/models' \\\r\n",
        "                --result_dir='stargan_celeba_128_custom/results'"
      ],
      "execution_count": null,
      "outputs": []
    }
  ]
}
