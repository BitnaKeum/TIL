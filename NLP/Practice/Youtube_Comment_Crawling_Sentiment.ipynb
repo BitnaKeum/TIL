{
 "cells": [
  {
   "cell_type": "code",
   "execution_count": 23,
   "metadata": {},
   "outputs": [],
   "source": [
    "from selenium import webdriver\n",
    "import time\n",
    "import pandas as pd\n",
    "from selenium.webdriver.common.keys import Keys\n",
    "from pororo import Pororo"
   ]
  },
  {
   "cell_type": "code",
   "execution_count": 46,
   "metadata": {},
   "outputs": [],
   "source": [
    "# 영상의 url 입력\n",
    "url = 'https://www.youtube.com/watch?v=PrafBZ5ca6Y'"
   ]
  },
  {
   "cell_type": "code",
   "execution_count": 47,
   "metadata": {},
   "outputs": [],
   "source": [
    "# 영상 url로부터 댓글을 크롤링해 csv파일로 저장하는 함수\n",
    "def video_comment_crawling(save_csv=True):\n",
    "    comment_list = []\n",
    "\n",
    "    driver = webdriver.Chrome('./chromedriver.exe')\n",
    "    driver.maximize_window()\n",
    "    \n",
    "    \n",
    "    print(f'Start comment crawling')\n",
    "    \n",
    "    driver.get(url)  # url에 접속\n",
    "    time.sleep(3)\n",
    "\n",
    "    count = 0\n",
    "    body = driver.find_element_by_tag_name(\"body\")\n",
    "\n",
    "    # 댓글 데이터를 가져옴\n",
    "    last = driver.find_elements_by_css_selector('#content-text')\n",
    "\n",
    "    while True:\n",
    "        body.send_keys(Keys.PAGE_DOWN)\n",
    "        time.sleep(0.4)\n",
    "\n",
    "        new = driver.find_elements_by_css_selector('#content-text') # 댓글 내용\n",
    "\n",
    "        if new == last:\n",
    "            if count == 10:\n",
    "                break\n",
    "            count += 1\n",
    "        else:\n",
    "            count = 0\n",
    "\n",
    "        last = new\n",
    "\n",
    "    for idx in new:\n",
    "        # 한글 깨짐 방지\n",
    "        text = idx.text\n",
    "\n",
    "        for idx in range(len(text)):\n",
    "            if not ((0 <= ord(text[idx]) < 128) or (0xac00 <= ord(text[idx]) <= 0xd7af)):\n",
    "                text = text.replace(text[idx], ' ')\n",
    "\n",
    "        text = text.replace('\\r\\n', ' ')\n",
    "        comment_list.append([text])\n",
    "            \n",
    "    driver.close()\n",
    "    print('Finish comment crawling')\n",
    "    \n",
    "    \n",
    "    if save_csv == True:\n",
    "        # 댓글 데이터를 csv 파일에 저장\n",
    "        dataframe = pd.DataFrame(comment_list, columns=[\"comment\"])\n",
    "        dataframe.to_csv('./youtube_comment.csv', mode = 'w', encoding='cp949')\n",
    "        print('Saving data to csv file')\n",
    "        \n",
    "    return comment_list"
   ]
  },
  {
   "cell_type": "code",
   "execution_count": 48,
   "metadata": {},
   "outputs": [],
   "source": [
    "def sentiment_analysis(comment_list):\n",
    "    sa = Pororo(task='sentiment', lang='ko') # 감성 분석 task 모델\n",
    "\n",
    "    pos_prob, neg_prob = 0.0, 0.0\n",
    "    for comment in comment_list:\n",
    "        sa_result = sa(comment[0], show_probs=True)\n",
    "\n",
    "        pos_prob += sa_result['positive']\n",
    "        neg_prob += sa_result['negative']\n",
    "\n",
    "    total_num = len(comment_list) # 크롤링한 댓글 수\n",
    "    pos_prob, neg_prob = pos_prob/total_num, neg_prob/total_num\n",
    "    pos_perc, neg_perc = round(pos_prob*100), round(neg_prob*100)\n",
    "\n",
    "    print('##### 댓글 선호도 분석 결과 #####')\n",
    "    print(f'긍정: {pos_perc}%, 부정: {neg_perc}%')"
   ]
  },
  {
   "cell_type": "code",
   "execution_count": null,
   "metadata": {},
   "outputs": [],
   "source": [
    "if __name__ == \"__main__\":\n",
    "    comment_list = video_comment_crawling(save_csv=True)\n",
    "    sentiment_analysis(comment_list)"
   ]
  },
  {
   "cell_type": "code",
   "execution_count": null,
   "metadata": {},
   "outputs": [],
   "source": []
  }
 ],
 "metadata": {
  "kernelspec": {
   "display_name": "Python 3",
   "language": "python",
   "name": "python3"
  }
 },
 "nbformat": 4,
 "nbformat_minor": 2
}
