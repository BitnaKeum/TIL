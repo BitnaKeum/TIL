{
 "cells": [
  {
   "cell_type": "code",
   "execution_count": 28,
   "metadata": {},
   "outputs": [],
   "source": [
    "from sklearn.datasets import fetch_20newsgroups\n",
    "from scipy.cluster.hierarchy import ward, dendrogram\n",
    "import matplotlib as mpl\n",
    "from scipy.cluster.hierarchy import fcluster\n",
    "from sklearn.metrics.pairwise import cosine_similarity\n",
    "import pandas as pd\n",
    "import numpy as np\n",
    "import matplotlib.pyplot as plt\n",
    "%matplotlib inline\n",
    "import re\n",
    "import string\n",
    "from nltk import word_tokenize\n",
    "from nltk.corpus import stopwords\n",
    "from nltk.stem import WordNetLemmatizer\n",
    "from sklearn.feature_extraction.text import TfidfVectorizer\n",
    "from collections import Counter\n",
    "from pylab import *\n",
    "import nltk\n",
    "import warnings\n",
    "warnings.filterwarnings('ignore')\n",
    "import seaborn as sns\n",
    "sns.set()\n",
    "from scipy.spatial.distance import cdist\n",
    "from sklearn.cluster import KMeans"
   ]
  },
  {
   "cell_type": "code",
   "execution_count": null,
   "metadata": {},
   "outputs": [],
   "source": [
    "# 계층적 클러스터링"
   ]
  },
  {
   "cell_type": "code",
   "execution_count": 2,
   "metadata": {},
   "outputs": [
    {
     "name": "stderr",
     "output_type": "stream",
     "text": [
      "[nltk_data] Downloading package stopwords to\n",
      "[nltk_data]     C:\\Users\\beaus\\AppData\\Roaming\\nltk_data...\n",
      "[nltk_data]   Package stopwords is already up-to-date!\n",
      "[nltk_data] Downloading package wordnet to\n",
      "[nltk_data]     C:\\Users\\beaus\\AppData\\Roaming\\nltk_data...\n",
      "[nltk_data]   Package wordnet is already up-to-date!\n"
     ]
    }
   ],
   "source": [
    "nltk.download('stopwords')\n",
    "stop_words = stopwords.words('english')\n",
    "stop_words = stop_words+list(string.printable)\n",
    "nltk.download('wordnet')\n",
    "lemmatizer = WordNetLemmatizer()"
   ]
  },
  {
   "cell_type": "code",
   "execution_count": 3,
   "metadata": {},
   "outputs": [],
   "source": [
    "categories = ['misc.forsale', 'sci.electronics', 'talk.religion.misc']  # 0, 1, 2"
   ]
  },
  {
   "cell_type": "code",
   "execution_count": 4,
   "metadata": {},
   "outputs": [],
   "source": [
    "news_data = fetch_20newsgroups(subset='train', categories=categories, shuffle=True, random_state=42, download_if_missing=True)  "
   ]
  },
  {
   "cell_type": "code",
   "execution_count": 5,
   "metadata": {
    "scrolled": true
   },
   "outputs": [
    {
     "data": {
      "text/plain": [
       "['From: Steve@Busop.cit.wayne.edu (Steve Teolis)\\nSubject: Re: *** TurboGrafx System For SALE ***\\nOrganization: Wayne State University\\nLines: 38\\nDistribution: na\\nNNTP-Posting-Host: 141.217.75.24\\n\\n>TurboGrafx-16 Base Unit (works like new) with:\\n>       1 Controller\\n>       AC Adapter\\n>       Antenna hookup\\n>     * Games:\\n>         Kieth Courage\\n>         Victory Run\\n>         Fantasy Zone\\n>         Military Madness\\n>         Battle Royal\\n>         Legendary Axe\\n>         Blazing Lasers\\n>         Bloody Wolf\\n>\\n>  --------------------------------------\\n>* Will sell games separatley at $25 each\\n>  --------------------------------------\\n\\nYour kidding, $210.00, man o man, you can buy the system new for $49.00 at \\nElectronic Boutique and those games are only about $15 - $20.00 brand new.  \\nMaybe you should think about that price again if you REALLY need the money.\\n\\n\\n\\n\\n\\n\\n                        \\n                        \\n                        -=-=-=-=-=-=-=-=-=-=-=-=-=-=-\\n                            Wayne State University      \\n                                                       \\n                                Steve Teolis            \\n                             6050 Cass Ave. # 238       \\n                              Detroit, MI  48202        \\n                                                        \\n                           Steve@Busop.cit.wayne.edu    \\n                        -=-=-=-=-=-=-=-=-=-=-=-=-=-=-=-\\n',\n",
       " 'From: jks2x@holmes.acc.Virginia.EDU (Jason K. Schechner)\\nSubject: Foot switches for sale\\nOrganization: University of Virginia\\nLines: 11\\n\\n\\n\\tI have 2 foot switches for sale.  They\\'re great for guitar\\namps, and keyboards.  Each is about 1\" in diameter with a 6\\' (or so)\\ncable.  I\\'d like $15 for both, but make me an offer, who knows...\\n\\n-Jason\\n-- \\nSettle down, raise a family join the PTA, \\nbuy some sensible shoes, and a Chevrolet\\nAnd party \\'till you\\'re broke and they drag you away. It\\'s ok.\\n\\t\\t\\t\\t\\tAl Yankovic\\n',\n",
       " \"From: wayne@uva386.schools.virginia.edu (Tony Wayne)\\nSubject: Pink Noise\\nOrganization: Virginia's Public Education Network (Charlottesville)\\nLines: 4\\n\\nWhat is Pink noise and how is it used in sound experiments?\\n-tony\\n wayne@uva386.schools.virginia.edu\\n\\n\",\n",
       " \"From: lihan@ccwf.cc.utexas.edu (Bruce G. Bostwick)\\nSubject: Re: Membrane keypad with custom legend.\\nOrganization: The University of Texas at Austin, Austin TX\\nLines: 21\\nDistribution: usa\\nNNTP-Posting-Host: doc.cc.utexas.edu\\n\\nIn article <1993Apr21.125530.18387@texhrc.uucp> pyeatt@Texaco.com (Larry D. Pyeatt) writes:\\n>I had a catalog with membrane keypads, but I dunno what\\n>happened to it, and it was so long ago that I forget the\\n>name of the company.  Anyway, you could make your own\\n>legend and slip it behind the bezel.  Really nice and \\n>reasonably priced.  Can anyone tell me where to get some\\n>more of these critters?\\n\\nFor some reason the name Grayhill springs to mind -- saw something\\nlike that in a Grayhill catalog, along with options for custom printed\\noverlays and a neat little electroluuminescent backing that would make\\nthe whole shebang glow a nice shade of green ..\\n\\nmighty handy if you're trying to key a door combination in the dark\\nand don't want to TURN ON THE &%#$!! LIGHT ..\\n\\n-- \\n<BGB>\\nlihan@ccwf.cc.utexas.edu        /   The only reason the world hasn't\\n(really Bruce Bostwick)        /   dissolved into total chaos is that\\nfrom the great state of TEXAS /   Murphy's Law also applies to Murphy.\\n\",\n",
       " \"From: myoakam@cis.ohio-state.edu (micah r yoakam)\\nSubject: BOAT for SALE\\nOrganization: The Ohio State University Dept. of Computer and Info. Science\\nLines: 14\\nDistribution: USA\\nExpires: +60days\\nNNTP-Posting-Host: eucalyptus.cis.ohio-state.edu\\n\\nBOAT For SALE\\n1989 23' IMPERIAL FISHERMAN featuring\\n        Walkaround Cuddy Cabin, 305 V8 with VOLVO DUO PROP OUTDRIVE /\\\\/\\\\/\\\\/\\nAM-FM Cassette Stereo, VHF RADIO, 4x6 HUMMINGBIRD Fishfinder, ALL  Safty\\nequipment, Covers, and MUCH MORE.  \\n        18000 LB.  Capacity\\n        includes Storage Trailer\\n        Hardly used:  LESS Than 100 Hrs\\n\\nAsking: $15,000 OR Best OFFER.\\nFor Further information contact Gerald at 1-(419)-756-2950\\n                                        Mansfield, OH\\n\\n\\n\"]"
      ]
     },
     "execution_count": 5,
     "metadata": {},
     "output_type": "execute_result"
    }
   ],
   "source": [
    "news_data['data'][:5]  # 처음 5개 기사 확인"
   ]
  },
  {
   "cell_type": "code",
   "execution_count": 17,
   "metadata": {},
   "outputs": [
    {
     "data": {
      "text/plain": [
       "array([0, 0, 1, ..., 0, 1, 0], dtype=int64)"
      ]
     },
     "execution_count": 17,
     "metadata": {},
     "output_type": "execute_result"
    }
   ],
   "source": [
    "news_data.target"
   ]
  },
  {
   "cell_type": "code",
   "execution_count": 13,
   "metadata": {},
   "outputs": [
    {
     "data": {
      "text/plain": [
       "['misc.forsale', 'sci.electronics', 'talk.religion.misc']"
      ]
     },
     "execution_count": 13,
     "metadata": {},
     "output_type": "execute_result"
    }
   ],
   "source": [
    "news_data.target_names"
   ]
  },
  {
   "cell_type": "code",
   "execution_count": 14,
   "metadata": {},
   "outputs": [
    {
     "data": {
      "text/html": [
       "<div>\n",
       "<style scoped>\n",
       "    .dataframe tbody tr th:only-of-type {\n",
       "        vertical-align: middle;\n",
       "    }\n",
       "\n",
       "    .dataframe tbody tr th {\n",
       "        vertical-align: top;\n",
       "    }\n",
       "\n",
       "    .dataframe thead th {\n",
       "        text-align: right;\n",
       "    }\n",
       "</style>\n",
       "<table border=\"1\" class=\"dataframe\">\n",
       "  <thead>\n",
       "    <tr style=\"text-align: right;\">\n",
       "      <th></th>\n",
       "      <th>text</th>\n",
       "      <th>category</th>\n",
       "    </tr>\n",
       "  </thead>\n",
       "  <tbody>\n",
       "    <tr>\n",
       "      <td>0</td>\n",
       "      <td>From: Steve@Busop.cit.wayne.edu (Steve Teolis)...</td>\n",
       "      <td>0</td>\n",
       "    </tr>\n",
       "    <tr>\n",
       "      <td>1</td>\n",
       "      <td>From: jks2x@holmes.acc.Virginia.EDU (Jason K. ...</td>\n",
       "      <td>0</td>\n",
       "    </tr>\n",
       "    <tr>\n",
       "      <td>2</td>\n",
       "      <td>From: wayne@uva386.schools.virginia.edu (Tony ...</td>\n",
       "      <td>1</td>\n",
       "    </tr>\n",
       "    <tr>\n",
       "      <td>3</td>\n",
       "      <td>From: lihan@ccwf.cc.utexas.edu (Bruce G. Bostw...</td>\n",
       "      <td>1</td>\n",
       "    </tr>\n",
       "    <tr>\n",
       "      <td>4</td>\n",
       "      <td>From: myoakam@cis.ohio-state.edu (micah r yoak...</td>\n",
       "      <td>0</td>\n",
       "    </tr>\n",
       "  </tbody>\n",
       "</table>\n",
       "</div>"
      ],
      "text/plain": [
       "                                                text  category\n",
       "0  From: Steve@Busop.cit.wayne.edu (Steve Teolis)...         0\n",
       "1  From: jks2x@holmes.acc.Virginia.EDU (Jason K. ...         0\n",
       "2  From: wayne@uva386.schools.virginia.edu (Tony ...         1\n",
       "3  From: lihan@ccwf.cc.utexas.edu (Bruce G. Bostw...         1\n",
       "4  From: myoakam@cis.ohio-state.edu (micah r yoak...         0"
      ]
     },
     "execution_count": 14,
     "metadata": {},
     "output_type": "execute_result"
    }
   ],
   "source": [
    "news_data_df = pd.DataFrame({'text' : news_data['data'], 'category' : news_data.target})\n",
    "news_data_df.head()"
   ]
  },
  {
   "cell_type": "code",
   "execution_count": 16,
   "metadata": {
    "scrolled": false
   },
   "outputs": [
    {
     "data": {
      "text/plain": [
       "1    591\n",
       "0    585\n",
       "2    377\n",
       "Name: category, dtype: int64"
      ]
     },
     "execution_count": 16,
     "metadata": {},
     "output_type": "execute_result"
    }
   ],
   "source": [
    "news_data_df['category'].value_counts()  # 각 category에 해당하는 기사 개수"
   ]
  },
  {
   "cell_type": "code",
   "execution_count": 18,
   "metadata": {},
   "outputs": [],
   "source": [
    "news_data_df['cleaned_text'] = news_data_df['text'].apply(\\\n",
    "                                   lambda x : ' '.join([lemmatizer.lemmatize(word.lower()) \\\n",
    "                                   for word in word_tokenize(re.sub(r'([^\\s\\w]_)+', ' ', str(x))) if word.lower() not in stop_words])\n",
    "                               )"
   ]
  },
  {
   "cell_type": "code",
   "execution_count": 19,
   "metadata": {},
   "outputs": [
    {
     "data": {
      "text/html": [
       "<div>\n",
       "<style scoped>\n",
       "    .dataframe tbody tr th:only-of-type {\n",
       "        vertical-align: middle;\n",
       "    }\n",
       "\n",
       "    .dataframe tbody tr th {\n",
       "        vertical-align: top;\n",
       "    }\n",
       "\n",
       "    .dataframe thead th {\n",
       "        text-align: right;\n",
       "    }\n",
       "</style>\n",
       "<table border=\"1\" class=\"dataframe\">\n",
       "  <thead>\n",
       "    <tr style=\"text-align: right;\">\n",
       "      <th></th>\n",
       "      <th>00</th>\n",
       "      <th>10</th>\n",
       "      <th>100</th>\n",
       "      <th>12</th>\n",
       "      <th>14</th>\n",
       "      <th>15</th>\n",
       "      <th>16</th>\n",
       "      <th>20</th>\n",
       "      <th>25</th>\n",
       "      <th>30</th>\n",
       "      <th>...</th>\n",
       "      <th>well</th>\n",
       "      <th>wire</th>\n",
       "      <th>wiring</th>\n",
       "      <th>without</th>\n",
       "      <th>word</th>\n",
       "      <th>work</th>\n",
       "      <th>world</th>\n",
       "      <th>would</th>\n",
       "      <th>writes</th>\n",
       "      <th>year</th>\n",
       "    </tr>\n",
       "  </thead>\n",
       "  <tbody>\n",
       "    <tr>\n",
       "      <td>0</td>\n",
       "      <td>0.435585</td>\n",
       "      <td>0.0</td>\n",
       "      <td>0.000000</td>\n",
       "      <td>0.0</td>\n",
       "      <td>0.000000</td>\n",
       "      <td>0.127755</td>\n",
       "      <td>0.136789</td>\n",
       "      <td>0.12753</td>\n",
       "      <td>0.133289</td>\n",
       "      <td>0.0</td>\n",
       "      <td>...</td>\n",
       "      <td>0.0</td>\n",
       "      <td>0.0</td>\n",
       "      <td>0.0</td>\n",
       "      <td>0.0</td>\n",
       "      <td>0.0</td>\n",
       "      <td>0.11318</td>\n",
       "      <td>0.000000</td>\n",
       "      <td>0.000000</td>\n",
       "      <td>0.000000</td>\n",
       "      <td>0.0</td>\n",
       "    </tr>\n",
       "    <tr>\n",
       "      <td>1</td>\n",
       "      <td>0.000000</td>\n",
       "      <td>0.0</td>\n",
       "      <td>0.000000</td>\n",
       "      <td>0.0</td>\n",
       "      <td>0.000000</td>\n",
       "      <td>0.249879</td>\n",
       "      <td>0.000000</td>\n",
       "      <td>0.00000</td>\n",
       "      <td>0.000000</td>\n",
       "      <td>0.0</td>\n",
       "      <td>...</td>\n",
       "      <td>0.0</td>\n",
       "      <td>0.0</td>\n",
       "      <td>0.0</td>\n",
       "      <td>0.0</td>\n",
       "      <td>0.0</td>\n",
       "      <td>0.00000</td>\n",
       "      <td>0.000000</td>\n",
       "      <td>0.000000</td>\n",
       "      <td>0.000000</td>\n",
       "      <td>0.0</td>\n",
       "    </tr>\n",
       "    <tr>\n",
       "      <td>2</td>\n",
       "      <td>0.000000</td>\n",
       "      <td>0.0</td>\n",
       "      <td>0.000000</td>\n",
       "      <td>0.0</td>\n",
       "      <td>0.000000</td>\n",
       "      <td>0.000000</td>\n",
       "      <td>0.000000</td>\n",
       "      <td>0.00000</td>\n",
       "      <td>0.000000</td>\n",
       "      <td>0.0</td>\n",
       "      <td>...</td>\n",
       "      <td>0.0</td>\n",
       "      <td>0.0</td>\n",
       "      <td>0.0</td>\n",
       "      <td>0.0</td>\n",
       "      <td>0.0</td>\n",
       "      <td>0.00000</td>\n",
       "      <td>0.000000</td>\n",
       "      <td>0.000000</td>\n",
       "      <td>0.000000</td>\n",
       "      <td>0.0</td>\n",
       "    </tr>\n",
       "    <tr>\n",
       "      <td>3</td>\n",
       "      <td>0.000000</td>\n",
       "      <td>0.0</td>\n",
       "      <td>0.000000</td>\n",
       "      <td>0.0</td>\n",
       "      <td>0.000000</td>\n",
       "      <td>0.000000</td>\n",
       "      <td>0.000000</td>\n",
       "      <td>0.00000</td>\n",
       "      <td>0.000000</td>\n",
       "      <td>0.0</td>\n",
       "      <td>...</td>\n",
       "      <td>0.0</td>\n",
       "      <td>0.0</td>\n",
       "      <td>0.0</td>\n",
       "      <td>0.0</td>\n",
       "      <td>0.0</td>\n",
       "      <td>0.00000</td>\n",
       "      <td>0.140439</td>\n",
       "      <td>0.102891</td>\n",
       "      <td>0.099018</td>\n",
       "      <td>0.0</td>\n",
       "    </tr>\n",
       "    <tr>\n",
       "      <td>4</td>\n",
       "      <td>0.000000</td>\n",
       "      <td>0.0</td>\n",
       "      <td>0.215013</td>\n",
       "      <td>0.0</td>\n",
       "      <td>0.199323</td>\n",
       "      <td>0.189186</td>\n",
       "      <td>0.000000</td>\n",
       "      <td>0.00000</td>\n",
       "      <td>0.000000</td>\n",
       "      <td>0.0</td>\n",
       "      <td>...</td>\n",
       "      <td>0.0</td>\n",
       "      <td>0.0</td>\n",
       "      <td>0.0</td>\n",
       "      <td>0.0</td>\n",
       "      <td>0.0</td>\n",
       "      <td>0.00000</td>\n",
       "      <td>0.000000</td>\n",
       "      <td>0.000000</td>\n",
       "      <td>0.000000</td>\n",
       "      <td>0.0</td>\n",
       "    </tr>\n",
       "  </tbody>\n",
       "</table>\n",
       "<p>5 rows × 200 columns</p>\n",
       "</div>"
      ],
      "text/plain": [
       "         00   10       100   12        14        15        16       20  \\\n",
       "0  0.435585  0.0  0.000000  0.0  0.000000  0.127755  0.136789  0.12753   \n",
       "1  0.000000  0.0  0.000000  0.0  0.000000  0.249879  0.000000  0.00000   \n",
       "2  0.000000  0.0  0.000000  0.0  0.000000  0.000000  0.000000  0.00000   \n",
       "3  0.000000  0.0  0.000000  0.0  0.000000  0.000000  0.000000  0.00000   \n",
       "4  0.000000  0.0  0.215013  0.0  0.199323  0.189186  0.000000  0.00000   \n",
       "\n",
       "         25   30  ...  well  wire  wiring  without  word     work     world  \\\n",
       "0  0.133289  0.0  ...   0.0   0.0     0.0      0.0   0.0  0.11318  0.000000   \n",
       "1  0.000000  0.0  ...   0.0   0.0     0.0      0.0   0.0  0.00000  0.000000   \n",
       "2  0.000000  0.0  ...   0.0   0.0     0.0      0.0   0.0  0.00000  0.000000   \n",
       "3  0.000000  0.0  ...   0.0   0.0     0.0      0.0   0.0  0.00000  0.140439   \n",
       "4  0.000000  0.0  ...   0.0   0.0     0.0      0.0   0.0  0.00000  0.000000   \n",
       "\n",
       "      would    writes  year  \n",
       "0  0.000000  0.000000   0.0  \n",
       "1  0.000000  0.000000   0.0  \n",
       "2  0.000000  0.000000   0.0  \n",
       "3  0.102891  0.099018   0.0  \n",
       "4  0.000000  0.000000   0.0  \n",
       "\n",
       "[5 rows x 200 columns]"
      ]
     },
     "execution_count": 19,
     "metadata": {},
     "output_type": "execute_result"
    }
   ],
   "source": [
    "# TF-IDF DataFrame 생성\n",
    "tfidf_model = TfidfVectorizer(max_features=200)\n",
    "tfidf_df = pd.DataFrame(tfidf_model.fit_transform(news_data_df['cleaned_text']).todense())\n",
    "tfidf_df.columns = sorted(tfidf_model.vocabulary_)\n",
    "tfidf_df.head()"
   ]
  },
  {
   "cell_type": "code",
   "execution_count": 20,
   "metadata": {},
   "outputs": [],
   "source": [
    "# 거리 행렬 생성 (거리 = 1 - TF-IDF에 대한 코사인 유사도)\n",
    "dist = 1 - cosine_similarity(tfidf_df)\n",
    "linkage_matrix = ward(dist)  # 연결 행렬 생성"
   ]
  },
  {
   "cell_type": "code",
   "execution_count": 22,
   "metadata": {},
   "outputs": [
    {
     "data": {
      "image/png": "[encoded data removed]",
      "text/plain": [
       "<Figure size 432x288 with 1 Axes>"
      ]
     },
     "metadata": {
      "needs_background": "light"
     },
     "output_type": "display_data"
    }
   ],
   "source": [
    "# 마지막 4개 클러스터만 남기기 위해 덴드로그램 자르기\n",
    "plt.title('Hierarchical Clustering using trucated Dendrogram')\n",
    "plt.xlabel('clustered documents')\n",
    "plt.ylabel('distance')\n",
    "\n",
    "dendrogram(\n",
    "    linkage_matrix,\n",
    "    truncate_mode = 'lastp', # 병합한 후 마지막 p개 클러스터만 출력\n",
    "    p = 4,\n",
    "    leaf_rotation = 90.,  # leaf label을 회전시킬 각도\n",
    "    leaf_font_size = 12.\n",
    ")\n",
    "plt.show()"
   ]
  },
  {
   "cell_type": "code",
   "execution_count": 23,
   "metadata": {},
   "outputs": [
    {
     "data": {
      "text/plain": [
       "array([1, 1, 1, ..., 4, 4, 1], dtype=int32)"
      ]
     },
     "execution_count": 23,
     "metadata": {},
     "output_type": "execute_result"
    }
   ],
   "source": [
    "# 클러스터링으로 얻은 category label\n",
    "k=4\n",
    "clusters = fcluster(linkage_matrix, k, criterion='maxclust')\n",
    "clusters"
   ]
  },
  {
   "cell_type": "code",
   "execution_count": 25,
   "metadata": {},
   "outputs": [
    {
     "data": {
      "text/html": [
       "<div>\n",
       "<style scoped>\n",
       "    .dataframe tbody tr th:only-of-type {\n",
       "        vertical-align: middle;\n",
       "    }\n",
       "\n",
       "    .dataframe tbody tr th {\n",
       "        vertical-align: top;\n",
       "    }\n",
       "\n",
       "    .dataframe thead th {\n",
       "        text-align: right;\n",
       "    }\n",
       "</style>\n",
       "<table border=\"1\" class=\"dataframe\">\n",
       "  <thead>\n",
       "    <tr style=\"text-align: right;\">\n",
       "      <th>obtained_clusters</th>\n",
       "      <th>cluster_1</th>\n",
       "      <th>cluster_2</th>\n",
       "      <th>cluster_3</th>\n",
       "      <th>cluster_4</th>\n",
       "    </tr>\n",
       "    <tr>\n",
       "      <th>category</th>\n",
       "      <th></th>\n",
       "      <th></th>\n",
       "      <th></th>\n",
       "      <th></th>\n",
       "    </tr>\n",
       "  </thead>\n",
       "  <tbody>\n",
       "    <tr>\n",
       "      <td>misc.forsale</td>\n",
       "      <td>263</td>\n",
       "      <td>1</td>\n",
       "      <td>191</td>\n",
       "      <td>130</td>\n",
       "    </tr>\n",
       "    <tr>\n",
       "      <td>sci.electronics</td>\n",
       "      <td>140</td>\n",
       "      <td>0</td>\n",
       "      <td>23</td>\n",
       "      <td>428</td>\n",
       "    </tr>\n",
       "    <tr>\n",
       "      <td>talk.religion.misc</td>\n",
       "      <td>70</td>\n",
       "      <td>185</td>\n",
       "      <td>1</td>\n",
       "      <td>121</td>\n",
       "    </tr>\n",
       "  </tbody>\n",
       "</table>\n",
       "</div>"
      ],
      "text/plain": [
       "obtained_clusters   cluster_1  cluster_2  cluster_3  cluster_4\n",
       "category                                                      \n",
       "misc.forsale              263          1        191        130\n",
       "sci.electronics           140          0         23        428\n",
       "talk.religion.misc         70        185          1        121"
      ]
     },
     "execution_count": 25,
     "metadata": {},
     "output_type": "execute_result"
    }
   ],
   "source": [
    "# 클러스터링 결과와 실제 category label 비교\n",
    "news_data_df['obtained_clusters'] = clusters\n",
    "pd.crosstab(news_data_df['category'].replace({0:'misc.forsale', 1:'sci.electronics', 2:'talk.religion.misc'}), \\\n",
    "            news_data_df['obtained_clusters'].replace({1:'cluster_1', 2: 'cluster_2', 3:'cluster_3', 4:'cluster_4'}))"
   ]
  },
  {
   "cell_type": "code",
   "execution_count": null,
   "metadata": {},
   "outputs": [],
   "source": [
    "# K-평균 클러스터링"
   ]
  },
  {
   "cell_type": "code",
   "execution_count": 29,
   "metadata": {},
   "outputs": [],
   "source": [
    "stop_words = stopwords.words('english')\n",
    "stop_words = stop_words + list(string.printable)\n",
    "lemmatizer = WordNetLemmatizer()"
   ]
  },
  {
   "cell_type": "code",
   "execution_count": 30,
   "metadata": {},
   "outputs": [],
   "source": [
    "categories = ['misc.forsale', 'sci.electronics', 'talk.religion.misc']"
   ]
  },
  {
   "cell_type": "code",
   "execution_count": 32,
   "metadata": {},
   "outputs": [],
   "source": [
    "news_data = fetch_20newsgroups(subset='train', categories=categories, shuffle=True, random_state=42, download_if_missing=True)"
   ]
  },
  {
   "cell_type": "code",
   "execution_count": 33,
   "metadata": {},
   "outputs": [],
   "source": [
    "news_data_df['cleaned_text'] = news_data_df['text'].apply(\\\n",
    "                                lambda x : ' '.join([lemmatizer.lemmatize(word.lower()) \\\n",
    "                                for word in word_tokenize(re.sub(r'([^\\s\\w]|_)+', ' ', str(x))) if word.lower() not in stop_words]))"
   ]
  },
  {
   "cell_type": "code",
   "execution_count": 34,
   "metadata": {},
   "outputs": [
    {
     "data": {
      "text/html": [
       "<div>\n",
       "<style scoped>\n",
       "    .dataframe tbody tr th:only-of-type {\n",
       "        vertical-align: middle;\n",
       "    }\n",
       "\n",
       "    .dataframe tbody tr th {\n",
       "        vertical-align: top;\n",
       "    }\n",
       "\n",
       "    .dataframe thead th {\n",
       "        text-align: right;\n",
       "    }\n",
       "</style>\n",
       "<table border=\"1\" class=\"dataframe\">\n",
       "  <thead>\n",
       "    <tr style=\"text-align: right;\">\n",
       "      <th></th>\n",
       "      <th>00</th>\n",
       "      <th>10</th>\n",
       "      <th>100</th>\n",
       "      <th>12</th>\n",
       "      <th>14</th>\n",
       "      <th>15</th>\n",
       "      <th>16</th>\n",
       "      <th>20</th>\n",
       "      <th>25</th>\n",
       "      <th>30</th>\n",
       "      <th>...</th>\n",
       "      <th>well</th>\n",
       "      <th>wire</th>\n",
       "      <th>wiring</th>\n",
       "      <th>without</th>\n",
       "      <th>word</th>\n",
       "      <th>work</th>\n",
       "      <th>world</th>\n",
       "      <th>would</th>\n",
       "      <th>writes</th>\n",
       "      <th>year</th>\n",
       "    </tr>\n",
       "  </thead>\n",
       "  <tbody>\n",
       "    <tr>\n",
       "      <td>0</td>\n",
       "      <td>0.435655</td>\n",
       "      <td>0.0</td>\n",
       "      <td>0.000000</td>\n",
       "      <td>0.0</td>\n",
       "      <td>0.000000</td>\n",
       "      <td>0.127775</td>\n",
       "      <td>0.136811</td>\n",
       "      <td>0.127551</td>\n",
       "      <td>0.133311</td>\n",
       "      <td>0.0</td>\n",
       "      <td>...</td>\n",
       "      <td>0.0</td>\n",
       "      <td>0.0</td>\n",
       "      <td>0.0</td>\n",
       "      <td>0.0</td>\n",
       "      <td>0.0</td>\n",
       "      <td>0.113042</td>\n",
       "      <td>0.000000</td>\n",
       "      <td>0.000000</td>\n",
       "      <td>0.000000</td>\n",
       "      <td>0.0</td>\n",
       "    </tr>\n",
       "    <tr>\n",
       "      <td>1</td>\n",
       "      <td>0.000000</td>\n",
       "      <td>0.0</td>\n",
       "      <td>0.000000</td>\n",
       "      <td>0.0</td>\n",
       "      <td>0.000000</td>\n",
       "      <td>0.294937</td>\n",
       "      <td>0.000000</td>\n",
       "      <td>0.000000</td>\n",
       "      <td>0.000000</td>\n",
       "      <td>0.0</td>\n",
       "      <td>...</td>\n",
       "      <td>0.0</td>\n",
       "      <td>0.0</td>\n",
       "      <td>0.0</td>\n",
       "      <td>0.0</td>\n",
       "      <td>0.0</td>\n",
       "      <td>0.000000</td>\n",
       "      <td>0.000000</td>\n",
       "      <td>0.000000</td>\n",
       "      <td>0.000000</td>\n",
       "      <td>0.0</td>\n",
       "    </tr>\n",
       "    <tr>\n",
       "      <td>2</td>\n",
       "      <td>0.000000</td>\n",
       "      <td>0.0</td>\n",
       "      <td>0.000000</td>\n",
       "      <td>0.0</td>\n",
       "      <td>0.000000</td>\n",
       "      <td>0.000000</td>\n",
       "      <td>0.000000</td>\n",
       "      <td>0.000000</td>\n",
       "      <td>0.000000</td>\n",
       "      <td>0.0</td>\n",
       "      <td>...</td>\n",
       "      <td>0.0</td>\n",
       "      <td>0.0</td>\n",
       "      <td>0.0</td>\n",
       "      <td>0.0</td>\n",
       "      <td>0.0</td>\n",
       "      <td>0.000000</td>\n",
       "      <td>0.000000</td>\n",
       "      <td>0.000000</td>\n",
       "      <td>0.000000</td>\n",
       "      <td>0.0</td>\n",
       "    </tr>\n",
       "    <tr>\n",
       "      <td>3</td>\n",
       "      <td>0.000000</td>\n",
       "      <td>0.0</td>\n",
       "      <td>0.000000</td>\n",
       "      <td>0.0</td>\n",
       "      <td>0.000000</td>\n",
       "      <td>0.000000</td>\n",
       "      <td>0.000000</td>\n",
       "      <td>0.000000</td>\n",
       "      <td>0.000000</td>\n",
       "      <td>0.0</td>\n",
       "      <td>...</td>\n",
       "      <td>0.0</td>\n",
       "      <td>0.0</td>\n",
       "      <td>0.0</td>\n",
       "      <td>0.0</td>\n",
       "      <td>0.0</td>\n",
       "      <td>0.000000</td>\n",
       "      <td>0.142267</td>\n",
       "      <td>0.106317</td>\n",
       "      <td>0.100306</td>\n",
       "      <td>0.0</td>\n",
       "    </tr>\n",
       "    <tr>\n",
       "      <td>4</td>\n",
       "      <td>0.000000</td>\n",
       "      <td>0.0</td>\n",
       "      <td>0.207003</td>\n",
       "      <td>0.0</td>\n",
       "      <td>0.191897</td>\n",
       "      <td>0.182138</td>\n",
       "      <td>0.000000</td>\n",
       "      <td>0.000000</td>\n",
       "      <td>0.000000</td>\n",
       "      <td>0.0</td>\n",
       "      <td>...</td>\n",
       "      <td>0.0</td>\n",
       "      <td>0.0</td>\n",
       "      <td>0.0</td>\n",
       "      <td>0.0</td>\n",
       "      <td>0.0</td>\n",
       "      <td>0.000000</td>\n",
       "      <td>0.000000</td>\n",
       "      <td>0.000000</td>\n",
       "      <td>0.000000</td>\n",
       "      <td>0.0</td>\n",
       "    </tr>\n",
       "  </tbody>\n",
       "</table>\n",
       "<p>5 rows × 200 columns</p>\n",
       "</div>"
      ],
      "text/plain": [
       "         00   10       100   12        14        15        16        20  \\\n",
       "0  0.435655  0.0  0.000000  0.0  0.000000  0.127775  0.136811  0.127551   \n",
       "1  0.000000  0.0  0.000000  0.0  0.000000  0.294937  0.000000  0.000000   \n",
       "2  0.000000  0.0  0.000000  0.0  0.000000  0.000000  0.000000  0.000000   \n",
       "3  0.000000  0.0  0.000000  0.0  0.000000  0.000000  0.000000  0.000000   \n",
       "4  0.000000  0.0  0.207003  0.0  0.191897  0.182138  0.000000  0.000000   \n",
       "\n",
       "         25   30  ...  well  wire  wiring  without  word      work     world  \\\n",
       "0  0.133311  0.0  ...   0.0   0.0     0.0      0.0   0.0  0.113042  0.000000   \n",
       "1  0.000000  0.0  ...   0.0   0.0     0.0      0.0   0.0  0.000000  0.000000   \n",
       "2  0.000000  0.0  ...   0.0   0.0     0.0      0.0   0.0  0.000000  0.000000   \n",
       "3  0.000000  0.0  ...   0.0   0.0     0.0      0.0   0.0  0.000000  0.142267   \n",
       "4  0.000000  0.0  ...   0.0   0.0     0.0      0.0   0.0  0.000000  0.000000   \n",
       "\n",
       "      would    writes  year  \n",
       "0  0.000000  0.000000   0.0  \n",
       "1  0.000000  0.000000   0.0  \n",
       "2  0.000000  0.000000   0.0  \n",
       "3  0.106317  0.100306   0.0  \n",
       "4  0.000000  0.000000   0.0  \n",
       "\n",
       "[5 rows x 200 columns]"
      ]
     },
     "execution_count": 34,
     "metadata": {},
     "output_type": "execute_result"
    }
   ],
   "source": [
    "# TF-IDF DataFrame 생성\n",
    "tfidf_model = TfidfVectorizer(max_features=200)\n",
    "tfidf_df = pd.DataFrame(tfidf_model.fit_transform(news_data_df['cleaned_text']).todense())\n",
    "tfidf_df.columns = sorted(tfidf_model.vocabulary_)\n",
    "tfidf_df.head()"
   ]
  },
  {
   "cell_type": "code",
   "execution_count": 36,
   "metadata": {},
   "outputs": [],
   "source": [
    "# TF-IDF로부터 4개의 클러스터를 만듦\n",
    "kmeans = KMeans(n_clusters=4)\n",
    "kmeans.fit(tfidf_df)\n",
    "y_kmeans = kmeans.predict(tfidf_df)\n",
    "news_data_df['obtained_clusters'] = y_kmeans"
   ]
  },
  {
   "cell_type": "code",
   "execution_count": 38,
   "metadata": {},
   "outputs": [
    {
     "data": {
      "text/html": [
       "<div>\n",
       "<style scoped>\n",
       "    .dataframe tbody tr th:only-of-type {\n",
       "        vertical-align: middle;\n",
       "    }\n",
       "\n",
       "    .dataframe tbody tr th {\n",
       "        vertical-align: top;\n",
       "    }\n",
       "\n",
       "    .dataframe thead th {\n",
       "        text-align: right;\n",
       "    }\n",
       "</style>\n",
       "<table border=\"1\" class=\"dataframe\">\n",
       "  <thead>\n",
       "    <tr style=\"text-align: right;\">\n",
       "      <th>obtained_clusters</th>\n",
       "      <th>cluster_1</th>\n",
       "      <th>cluster_2</th>\n",
       "      <th>cluster_3</th>\n",
       "      <th>cluster_4</th>\n",
       "    </tr>\n",
       "    <tr>\n",
       "      <th>category</th>\n",
       "      <th></th>\n",
       "      <th></th>\n",
       "      <th></th>\n",
       "      <th></th>\n",
       "    </tr>\n",
       "  </thead>\n",
       "  <tbody>\n",
       "    <tr>\n",
       "      <td>misc.forsale</td>\n",
       "      <td>135</td>\n",
       "      <td>100</td>\n",
       "      <td>1</td>\n",
       "      <td>349</td>\n",
       "    </tr>\n",
       "    <tr>\n",
       "      <td>sci.electronics</td>\n",
       "      <td>159</td>\n",
       "      <td>420</td>\n",
       "      <td>0</td>\n",
       "      <td>12</td>\n",
       "    </tr>\n",
       "    <tr>\n",
       "      <td>talk.religion.misc</td>\n",
       "      <td>77</td>\n",
       "      <td>72</td>\n",
       "      <td>228</td>\n",
       "      <td>0</td>\n",
       "    </tr>\n",
       "  </tbody>\n",
       "</table>\n",
       "</div>"
      ],
      "text/plain": [
       "obtained_clusters   cluster_1  cluster_2  cluster_3  cluster_4\n",
       "category                                                      \n",
       "misc.forsale              135        100          1        349\n",
       "sci.electronics           159        420          0         12\n",
       "talk.religion.misc         77         72        228          0"
      ]
     },
     "execution_count": 38,
     "metadata": {},
     "output_type": "execute_result"
    }
   ],
   "source": [
    "# 클러스터 결과와 실제 category label 비교\n",
    "pd.crosstab(news_data_df['category'].replace({0:'misc.forsale', 1:'sci.electronics', 2:'talk.religion.misc'}), \\\n",
    "            news_data_df['obtained_clusters'].replace({0:'cluster_1', 1: 'cluster_2', 2:'cluster_3', 3:'cluster_4'}))"
   ]
  },
  {
   "cell_type": "code",
   "execution_count": 39,
   "metadata": {},
   "outputs": [
    {
     "data": {
      "image/png": "[encoded data removed]",
      "text/plain": [
       "<Figure size 432x288 with 1 Axes>"
      ]
     },
     "metadata": {},
     "output_type": "display_data"
    }
   ],
   "source": [
    "# 최적의 k값(클러스터 개수)을 얻기 위해 k를 1~6으로 변경하면서 K-평균 알고리즘 실행\n",
    "# 가장 기울기가 가파른 값이 k가 됨 (이 경우 2)\n",
    "distortions = []\n",
    "K = range(1,6)\n",
    "for k in K:\n",
    "    kmeanModel = KMeans(n_clusters=k)\n",
    "    kmeanModel.fit(tfidf_df)\n",
    "    distortions.append(sum(np.min(cdist(tfidf_df, kmeanModel.cluster_centers_, 'euclidean'), axis=1)) / tfidf_df.shape[0])\n",
    "    \n",
    "plt.plot(K, distortions, 'bx-')\n",
    "plt.xlabel('k')\n",
    "plt.ylabel('Distortion')\n",
    "plt.title('The Elbow Method showing the optimal number of clusters')\n",
    "plt.show()"
   ]
  },
  {
   "cell_type": "code",
   "execution_count": null,
   "metadata": {},
   "outputs": [],
   "source": []
  }
 ],
 "metadata": {
  "kernelspec": {
   "display_name": "Python 3",
   "language": "python",
   "name": "python3"
  },
  "language_info": {
   "codemirror_mode": {
    "name": "ipython",
    "version": 3
   },
   "file_extension": ".py",
   "mimetype": "text/x-python",
   "name": "python",
   "nbconvert_exporter": "python",
   "pygments_lexer": "ipython3",
   "version": "3.7.4"
  }
 },
 "nbformat": 4,
 "nbformat_minor": 2
}
