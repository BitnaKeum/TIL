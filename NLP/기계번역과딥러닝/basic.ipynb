{
  "nbformat": 4,
  "nbformat_minor": 0,
  "metadata": {
    "colab": {
      "name": "basic.ipynb",
      "provenance": [],
      "collapsed_sections": []
    },
    "kernelspec": {
      "name": "python3",
      "display_name": "Python 3"
    }
  },
  "cells": [
    {
      "cell_type": "markdown",
      "metadata": {
        "id": "dN2UbXCTnqO7"
      },
      "source": [
        "# 1. Python을 이용한 함수"
      ]
    },
    {
      "cell_type": "markdown",
      "metadata": {
        "id": "XLtR750qmCyD"
      },
      "source": [
        "## 1. AND"
      ]
    },
    {
      "cell_type": "code",
      "metadata": {
        "id": "A7QcLAjVlO3u",
        "colab": {
          "base_uri": "https://localhost:8080/"
        },
        "outputId": "bc258558-b01e-4942-9eca-a4d865b661ac"
      },
      "source": [
        "def AND(x1,x2):\n",
        "  w1, w2, b = 0.5, 0.5, 0.7\n",
        "  tmp = w1*x1 + w2*x2 \n",
        "  if tmp <= b:\n",
        "    return 0\n",
        "  else:\n",
        "    return 1\n",
        "\n",
        "\n",
        "AND(1, 1)"
      ],
      "execution_count": null,
      "outputs": [
        {
          "output_type": "execute_result",
          "data": {
            "text/plain": [
              "1"
            ]
          },
          "metadata": {
            "tags": []
          },
          "execution_count": 1
        }
      ]
    },
    {
      "cell_type": "markdown",
      "metadata": {
        "id": "UZHznaaOm4Gm"
      },
      "source": [
        "## 2. NAND"
      ]
    },
    {
      "cell_type": "code",
      "metadata": {
        "id": "GqNEEoNam_EX",
        "colab": {
          "base_uri": "https://localhost:8080/"
        },
        "outputId": "9901578e-e5fa-4317-b434-f57eb7844ee4"
      },
      "source": [
        "def NAND(x1,x2):\n",
        "  w1, w2, b = -0.5, -0.5, -0.7\n",
        "  tmp = w1*x1 + w2*x2 \n",
        "  if tmp <= b:\n",
        "    return 0\n",
        "  else:\n",
        "    return 1\n",
        "\n",
        "\n",
        "NAND(0, 1)"
      ],
      "execution_count": null,
      "outputs": [
        {
          "output_type": "execute_result",
          "data": {
            "text/plain": [
              "1"
            ]
          },
          "metadata": {
            "tags": []
          },
          "execution_count": 2
        }
      ]
    },
    {
      "cell_type": "markdown",
      "metadata": {
        "id": "h2ZkU0wTmJFT"
      },
      "source": [
        "## 3. OR"
      ]
    },
    {
      "cell_type": "code",
      "metadata": {
        "id": "n3CafxuamMLJ",
        "colab": {
          "base_uri": "https://localhost:8080/"
        },
        "outputId": "ac3513f0-476f-45d3-d688-c07cef9a3733"
      },
      "source": [
        "def OR(x1,x2):\n",
        "  w1, w2, b = 0.5, 0.5, 0\n",
        "  tmp = w1*x1 + w2*x2 \n",
        "  if tmp <= b:\n",
        "    return 0\n",
        "  else:\n",
        "    return 1\n",
        "\n",
        "OR(0,0)"
      ],
      "execution_count": null,
      "outputs": [
        {
          "output_type": "execute_result",
          "data": {
            "text/plain": [
              "0"
            ]
          },
          "metadata": {
            "tags": []
          },
          "execution_count": 3
        }
      ]
    },
    {
      "cell_type": "markdown",
      "metadata": {
        "id": "2kvJjwHDmtn8"
      },
      "source": [
        "## 4. XOR"
      ]
    },
    {
      "cell_type": "code",
      "metadata": {
        "id": "DJqDVJScnYlY",
        "colab": {
          "base_uri": "https://localhost:8080/"
        },
        "outputId": "978806e3-b44b-47d7-cd93-e1f5471da305"
      },
      "source": [
        "def XOR(x1, x2) :\n",
        "    s1 = NAND(x1, x2)\n",
        "    s2 = OR(x1, x2)\n",
        "    y = AND(s1, s2)\n",
        "    return y\n",
        "\n",
        "XOR(0,1)"
      ],
      "execution_count": null,
      "outputs": [
        {
          "output_type": "execute_result",
          "data": {
            "text/plain": [
              "1"
            ]
          },
          "metadata": {
            "tags": []
          },
          "execution_count": 5
        }
      ]
    },
    {
      "cell_type": "markdown",
      "metadata": {
        "id": "StMrioT8X7R8"
      },
      "source": [
        "#AND, OR, NAND의 구현"
      ]
    },
    {
      "cell_type": "code",
      "metadata": {
        "id": "0rCiEvLOX52n"
      },
      "source": [
        ""
      ],
      "execution_count": null,
      "outputs": []
    },
    {
      "cell_type": "markdown",
      "metadata": {
        "id": "g5yu8P3On0Ts"
      },
      "source": [
        "# 2. NUMPY을 이용한 구현"
      ]
    },
    {
      "cell_type": "markdown",
      "metadata": {
        "id": "VkegiJOOn3X3"
      },
      "source": [
        "## 1. AND"
      ]
    },
    {
      "cell_type": "code",
      "metadata": {
        "id": "j4qttBYyn5CO",
        "colab": {
          "base_uri": "https://localhost:8080/"
        },
        "outputId": "357363b1-b261-4482-a455-a43eecffd719"
      },
      "source": [
        "import numpy as np\n",
        "\n",
        "def AND(x1, x2): \n",
        "\tx = np.array([x1,x2]) \n",
        "\tw = np.array([1, 1]) \n",
        "\tb = -1\n",
        "\tif np.sum(w*x)+b == 0: \n",
        "\t\treturn 0 \n",
        "\telse: \n",
        "\t\treturn 1\n",
        "\n",
        "\n",
        "AND(1, 1)"
      ],
      "execution_count": null,
      "outputs": [
        {
          "output_type": "execute_result",
          "data": {
            "text/plain": [
              "1"
            ]
          },
          "metadata": {
            "tags": []
          },
          "execution_count": 6
        }
      ]
    },
    {
      "cell_type": "markdown",
      "metadata": {
        "id": "0Mwv-3X4oPW-"
      },
      "source": [
        "## 2. NAND"
      ]
    },
    {
      "cell_type": "code",
      "metadata": {
        "id": "-AOguvfHoRIk",
        "colab": {
          "base_uri": "https://localhost:8080/"
        },
        "outputId": "310ccfbc-5855-4eb8-de0b-952ac10dd9f7"
      },
      "source": [
        "def NAND(x1, x2): \n",
        "\tx = np.array([x1,x2]) \n",
        "\tw = np.array([-1,-1]) \n",
        "\tb = 2 \n",
        "\tif np.sum(w*x)+b == 0: \n",
        "\t\treturn 0 \n",
        "\telse: \n",
        "\t\treturn 1\n",
        "\n",
        "NAND(0, 0)    "
      ],
      "execution_count": null,
      "outputs": [
        {
          "output_type": "execute_result",
          "data": {
            "text/plain": [
              "1"
            ]
          },
          "metadata": {
            "tags": []
          },
          "execution_count": 7
        }
      ]
    },
    {
      "cell_type": "markdown",
      "metadata": {
        "id": "qwjNoNxUoxiY"
      },
      "source": [
        "## 3. OR"
      ]
    },
    {
      "cell_type": "code",
      "metadata": {
        "id": "bVi_-PQeozzw",
        "colab": {
          "base_uri": "https://localhost:8080/"
        },
        "outputId": "9872f74e-b39c-4cde-b8f9-80f53953b576"
      },
      "source": [
        "def OR(x1, x2): \n",
        "\tx = np.array([x1,x2]) \n",
        "\tw = np.array([0.5,0.5]) \n",
        "\tb = 0 \n",
        "\tif np.sum(w*x) <= b: \n",
        "\t\treturn 0 \n",
        "\telse: \n",
        "\t\treturn 1\n",
        "\n",
        "OR(1, 0)    "
      ],
      "execution_count": null,
      "outputs": [
        {
          "output_type": "execute_result",
          "data": {
            "text/plain": [
              "1"
            ]
          },
          "metadata": {
            "tags": []
          },
          "execution_count": 8
        }
      ]
    },
    {
      "cell_type": "markdown",
      "metadata": {
        "id": "mhODABs4pDlR"
      },
      "source": [
        "# 2. 소프트맥스(Softmax)"
      ]
    },
    {
      "cell_type": "code",
      "metadata": {
        "id": "OJ2ayjb_pCkc",
        "colab": {
          "base_uri": "https://localhost:8080/",
          "height": 266
        },
        "outputId": "45d5a6d8-ca66-43c2-9ebb-b92c573ff4fa"
      },
      "source": [
        "import numpy as np\n",
        "import matplotlib.pyplot as plt\n",
        " \n",
        "def softmax(x):\n",
        "    e_x = np.exp(x - np.max(x))\n",
        "    return e_x / e_x.sum()\n",
        " \n",
        "x = np.array([2.0,3.0,4.0,5.0])\n",
        " \n",
        "y = softmax(x)\n",
        " \n",
        "print(np.sum(y))\n",
        " \n",
        "ratio = y\n",
        "labels = y\n",
        " \n",
        "plt.pie(ratio, labels=labels, shadow=True, startangle=90)\n",
        "plt.show()"
      ],
      "execution_count": null,
      "outputs": [
        {
          "output_type": "stream",
          "text": [
            "1.0\n"
          ],
          "name": "stdout"
        },
        {
          "output_type": "display_data",
          "data": {
            "image/png": "[encoded data removed]",
            "text/plain": [
              "<Figure size 432x288 with 1 Axes>"
            ]
          },
          "metadata": {
            "tags": []
          }
        }
      ]
    }
  ]
}
