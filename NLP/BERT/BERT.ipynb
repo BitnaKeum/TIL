{
  "nbformat": 4,
  "nbformat_minor": 0,
  "metadata": {
    "colab": {
      "name": "BERT chatbot",
      "provenance": [],
      "collapsed_sections": [],
      "authorship_tag": "ABX9TyOsEGlgGVcwD9RuMEwV6biA"
    },
    "kernelspec": {
      "name": "python3",
      "display_name": "Python 3"
    },
    "accelerator": "GPU"
  },
  "cells": [
    {
      "cell_type": "code",
      "metadata": {
        "id": "MiCoYliSuwZs"
      },
      "source": [
        "!nvidia-smi  # gpu 확인"
      ],
      "execution_count": null,
      "outputs": []
    },
    {
      "cell_type": "code",
      "metadata": {
        "id": "jf87pEq3u1L-"
      },
      "source": [
        "# Google drive 연동\n",
        "!apt-get install -y -qq software-properties-common python-software-properties module-init-tools\n",
        "!add-apt-repository -y ppa:alessandro-strada/ppa 2>&1 > /dev/null\n",
        "!apt-get update -qq 2>&1 > /dev/null\n",
        "!apt-get -y install -qq google-drive-ocamlfuse fuse\n",
        "\n",
        "from google.colab import auth\n",
        "auth.authenticate_user()\n",
        "\n",
        "from oauth2client.client import GoogleCredentials\n",
        "creds = GoogleCredentials.get_application_default()\n",
        "\n",
        "import getpass\n",
        "!google-drive-ocamlfuse -headless -id={creds.client_id} -secret={creds.client_secret} < /dev/null 2>&1 | grep URL\n",
        "\n",
        "vcode = getpass.getpass()\n",
        "!echo {vcode} | google-drive-ocamlfuse -headless -id={creds.client_id} -secret={creds.client_secret}"
      ],
      "execution_count": null,
      "outputs": []
    },
    {
      "cell_type": "code",
      "metadata": {
        "id": "Sp1LuxUcnlfd"
      },
      "source": [
        "cd /"
      ],
      "execution_count": null,
      "outputs": []
    },
    {
      "cell_type": "code",
      "metadata": {
        "id": "dnXgRLm_u2IA"
      },
      "source": [
        "# Google drive 연동 폴더 생성\n",
        "!mkdir -p Gdrive\n",
        "!google-drive-ocamlfuse Gdrive\n",
        "!ls Gdrive"
      ],
      "execution_count": null,
      "outputs": []
    },
    {
      "cell_type": "code",
      "metadata": {
        "id": "f3hjZo8wxiX0"
      },
      "source": [
        "# Tensorflow 1.15.0 is required (default Tensorflow version of Colab : 2.x)\r\n",
        "!sudo pip install --upgrade pip\r\n",
        "!sudo pip install --upgrade setuptools\r\n",
        "!sudo pip install --upgrade virtualenv\r\n",
        "!virtualenv --system-site-packages ~/tensorflow\r\n",
        "!source ~/tensorflow/bin/activate\r\n",
        "!pip install --upgrade tensorflow==1.15.0"
      ],
      "execution_count": null,
      "outputs": []
    },
    {
      "cell_type": "code",
      "metadata": {
        "id": "H0GdQhJLOcvk"
      },
      "source": [
        "# BERT training (only once execution)\r\n",
        "!python Gdrive/NLP/bert_chatbot/run_squad.py \\\r\n",
        "--vocab_file=Gdrive/NLP/bert/pretrained_files/vocab.txt \\\r\n",
        "--bert_config_file=Gdrive/NLP/bert/pretrained_files/bert_config.json \\\r\n",
        "--init_checkpoint=Gdrive/NLP/bert/pretrained_files/bert_model.ckpt \\\r\n",
        "--do_train=True \\\r\n",
        "--train_file=Gdrive/NLP/bert/korquad_files/KorQuAD_v1.0_train.json \\\r\n",
        "--do_predict=True \\\r\n",
        "--predict_file=Gdrive/NLP/bert/korquad_files/KorQuAD_v1.0_dev.json \\\r\n",
        "--train_batch_size=16 \\\r\n",
        "--learning_rate=3e-5 \\\r\n",
        "--num_train_epochs=2.0 \\\r\n",
        "--max_seq_length=256 \\\r\n",
        "--doc_stride=128 \\\r\n",
        "--output_dir=Gdrive/NLP/bert/output \\\r\n",
        "--do_lower_case=False"
      ],
      "execution_count": null,
      "outputs": []
    },
    {
      "cell_type": "code",
      "metadata": {
        "id": "LKaQk3-tvIQK"
      },
      "source": [
        "# Performance evaluation\r\n",
        "!python Gdrive/NLP/bert/korquad_files/evaluate-v1.0.py Gdrive/NLP/bert/korquad_files/KorQuAD_v1.0_dev.json Gdrive/NLP/bert/output/predictions.json"
      ],
      "execution_count": null,
      "outputs": []
    }
  ]
}
